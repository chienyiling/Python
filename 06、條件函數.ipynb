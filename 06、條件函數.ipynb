{
 "cells": [
  {
   "cell_type": "code",
   "execution_count": 2,
   "id": "nearby-telephone",
   "metadata": {},
   "outputs": [],
   "source": [
    "if 2>5:\n",
    "    print('Yes')"
   ]
  },
  {
   "cell_type": "code",
   "execution_count": null,
   "id": "careful-boards",
   "metadata": {},
   "outputs": [],
   "source": [
    "i1 = int(input('輸入分數: '))\n",
    "\n",
    "if i1 >= 60:\n",
    "    print(\"通過!\")\n",
    "else:\n",
    "    print(\"不通過!\")"
   ]
  },
  {
   "cell_type": "code",
   "execution_count": null,
   "id": "indie-pleasure",
   "metadata": {},
   "outputs": [],
   "source": [
    "i2 = int(input('輸入分數(i2): '))\n",
    "if i2 < 0: # 如果符合後面就不會再執行\n",
    "    print('Error')\n",
    "elif i2 < 60: # \n",
    "    print('0 <= i2 < 60','不及格')\n",
    "elif i2 < 80:\n",
    "    print('60 <= i2 < 80','待加強')\n",
    "elif i2 < 100:\n",
    "    print('80 <= i2 < 100','很讚！')\n",
    "else:\n",
    "    print('Error')"
   ]
  },
  {
   "cell_type": "code",
   "execution_count": null,
   "id": "educational-wrestling",
   "metadata": {},
   "outputs": [],
   "source": [
    "i3 = 9\n",
    "i4 = 3 if i3 == 7 else 5 \n",
    "i4"
   ]
  }
 ],
 "metadata": {
  "kernelspec": {
   "display_name": "Python 3",
   "language": "python",
   "name": "python3"
  },
  "language_info": {
   "codemirror_mode": {
    "name": "ipython",
    "version": 3
   },
   "file_extension": ".py",
   "mimetype": "text/x-python",
   "name": "python",
   "nbconvert_exporter": "python",
   "pygments_lexer": "ipython3",
   "version": "3.8.7"
  }
 },
 "nbformat": 4,
 "nbformat_minor": 5
}
