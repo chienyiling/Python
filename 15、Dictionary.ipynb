{
 "cells": [
  {
   "cell_type": "code",
   "execution_count": null,
   "id": "referenced-tuition",
   "metadata": {
    "scrolled": true
   },
   "outputs": [],
   "source": [
    "dict1 = {'A':\"a\", 'B':[1,2,3], 'C':(1,2,3), 'D':{'AA':'aa', 'BB':'bb'}}\n",
    "dict2 = {1:\"a\", 2:'b'}\n",
    "dict3 = {(0,1):'a', (0,2):'b'}\n",
    "print('dict1 :', dict1)\n",
    "print('dict2 :', dict2)\n",
    "print('dict3 :', dict3)\n",
    "\n",
    "print(dict1['A']) \n",
    "print(dict1['E']) # 尋找沒有定義的Key會出錯"
   ]
  },
  {
   "cell_type": "code",
   "execution_count": null,
   "id": "junior-atlantic",
   "metadata": {},
   "outputs": [],
   "source": [
    "dict4 = {'A':'a', 'B':'b', 'A':1}\n",
    "print(\"dict4['A'] : \", dict4['A']) "
   ]
  },
  {
   "cell_type": "markdown",
   "id": "cordless-ivory",
   "metadata": {},
   "source": [
    "# 無索引、切片 "
   ]
  },
  {
   "cell_type": "code",
   "execution_count": null,
   "id": "portuguese-float",
   "metadata": {},
   "outputs": [],
   "source": [
    "dict5 = {'name':'John', 'age':30}\n",
    "dict6 = {'age':30, 'name':'John'}\n",
    "\n",
    "print(dict5 == dict6) \n",
    "print(dict5 is dict6)"
   ]
  },
  {
   "cell_type": "code",
   "execution_count": null,
   "id": "understanding-quebec",
   "metadata": {},
   "outputs": [],
   "source": [
    "dict7={'A':1, 'B':2, 'C':3, 'D':4, 'E':5}\n",
    "dict7[:3]"
   ]
  },
  {
   "cell_type": "markdown",
   "id": "systematic-analysis",
   "metadata": {},
   "source": [
    "# 可變動 "
   ]
  },
  {
   "cell_type": "code",
   "execution_count": null,
   "id": "functional-genesis",
   "metadata": {},
   "outputs": [],
   "source": [
    "dict8 = {'one':1, 'two':2, \"three\":3}\n",
    "print(\"dict8 :            \", dict8)   \n",
    "\n",
    "dict8['two'] = 7 # 修改\n",
    "print(\"dict8['two'] = 7 : \", dict8)    \n",
    "\n",
    "dict8['four']=7 # 沒有的話則新增 \n",
    "print(\"dict8['four'] = 7 :\", dict8) "
   ]
  },
  {
   "cell_type": "markdown",
   "id": "aerial-duncan",
   "metadata": {},
   "source": [
    "# 函數、方法 "
   ]
  },
  {
   "cell_type": "code",
   "execution_count": null,
   "id": "obvious-portland",
   "metadata": {},
   "outputs": [],
   "source": [
    "dict9 = {'A':1,'B':2, 'C':3, 'E':5}\n",
    "dict10 = {'F':6}\n",
    "print('dict9 :                        ', dict9)\n",
    "print('dict10 :                       ', dict10)\n",
    "print()\n",
    "\n",
    "dict11 = dict9.copy() # 值相同，ID不相同\n",
    "print('dict11 = dict9.copy() :        ', dict11)\n",
    "print('dict9 is dict11 :              ', dict9 is dict11)\n",
    "print('dict9 == dict11 :              ', dict9 == dict11)\n",
    "print()\n",
    "\n",
    "# 取得指定值\n",
    "print('dict9.get(\\'D\\', \\'No item\\')：    ',dict9.get('D', 'No item')) # 若不存在回傳預設值None\n",
    "print('dict9.setdefault(\\'D\\', 4)：     ',dict9.setdefault('D', 4)) # 若不存在則新增字典\n",
    "print('dict9 :                        ', dict9)\n",
    "\n",
    "print()\n",
    "print((dict9.items())) # 取得所有配對\n",
    "print(dict9.keys()) # 取得所有keys\n",
    "print(dict9.values()) # 取得所有values\n",
    "print()\n",
    "\n",
    "dict9.update(dict10)\n",
    "print('dict9.update(dict10)：         ', dict9) # 新增\n",
    "print()\n",
    "\n",
    "del dict9['E'] # 刪除指定元素\n",
    "print(\"del dict9['E'] :               \", dict9)\n",
    "print(dict9.pop('B')) #刪除並回傳\n",
    "print('pop(\"B\") :                     ', dict9)\n",
    "dict9.clear()   # 清空字典\n",
    "print('dict9.clear() :                ', dict9)"
   ]
  },
  {
   "cell_type": "code",
   "execution_count": null,
   "id": "alleged-moral",
   "metadata": {},
   "outputs": [],
   "source": []
  }
 ],
 "metadata": {
  "kernelspec": {
   "display_name": "Python 3",
   "language": "python",
   "name": "python3"
  },
  "language_info": {
   "codemirror_mode": {
    "name": "ipython",
    "version": 3
   },
   "file_extension": ".py",
   "mimetype": "text/x-python",
   "name": "python",
   "nbconvert_exporter": "python",
   "pygments_lexer": "ipython3",
   "version": "3.8.7"
  }
 },
 "nbformat": 4,
 "nbformat_minor": 5
}
