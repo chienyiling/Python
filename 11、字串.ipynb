{
 "cells": [
  {
   "cell_type": "code",
   "execution_count": null,
   "id": "sudden-enemy",
   "metadata": {},
   "outputs": [],
   "source": [
    "b1 = 'it's nice'\n",
    "b1"
   ]
  },
  {
   "cell_type": "code",
   "execution_count": null,
   "id": "advanced-stable",
   "metadata": {},
   "outputs": [],
   "source": [
    "b1 = \"it's nice\"\n",
    "b1"
   ]
  },
  {
   "cell_type": "code",
   "execution_count": null,
   "id": "colonial-reply",
   "metadata": {},
   "outputs": [],
   "source": [
    "print('A'+'B')\n",
    "print('A'*10)\n",
    "print('A'*10.0) #不能乘以浮點數"
   ]
  },
  {
   "cell_type": "markdown",
   "id": "trained-target",
   "metadata": {},
   "source": [
    "# 索引與切片\n"
   ]
  },
  {
   "cell_type": "code",
   "execution_count": null,
   "id": "rural-locking",
   "metadata": {},
   "outputs": [],
   "source": [
    "var1 = 'Hello World'\n",
    "print(var1)\n",
    "print('var1[0] :      ', var1[0])\n",
    "print('var1[1:4] :    ', var1[1:4]) # 不指定間隔(預設為1)\n",
    "print('var1[5:1] :    ', var1[5:1]) # 開頭到結尾的順序，要與間隔的正負號一致，所以不能用[5:1]\n",
    "print('var1[:6] :     ', var1[:6]) # 不指定起點(預設從0開始)\n",
    "print('var1[::2] :    ', var1[::2]) # 不指定起點(預設從0開始)，不指定終點(預設到最後為止)，隔一個選取\n",
    "print('var1[::-1] :   ', var1[::-1]) # 倒序\n",
    "print('var1[::-2] :   ', var1[::-2]) # 倒序，且間隔為2 \n",
    "print('var1[-1] :     ', var1[-1])\n",
    "print('var1[-11:-2] : ', var1[-11:-2]) \n",
    "print('var1[-2:-11] : ', var1[-2:-11]) # 間隔為1，所以不能用[-2:-11]\n",
    "print('var1[3:-2] :   ', var1[3:-2])\n",
    "print('var1[3:-2:2] : ', var1[3:-2:2])"
   ]
  },
  {
   "cell_type": "markdown",
   "id": "bigger-battle",
   "metadata": {},
   "source": [
    "# 字串不可變性"
   ]
  },
  {
   "cell_type": "code",
   "execution_count": null,
   "id": "environmental-daniel",
   "metadata": {},
   "outputs": [],
   "source": [
    "b2 = 'Hello World!'\n",
    "b2[4]='W'  "
   ]
  },
  {
   "cell_type": "code",
   "execution_count": null,
   "id": "fiscal-diamond",
   "metadata": {},
   "outputs": [],
   "source": [
    "b3 = 'this is a string'\n",
    "print(b3, id(b3))\n",
    "print(b3.replace('string', 'longer string'), id(b3.replace('string', 'longer string')))\n",
    "# replace 為字串的方法，下面會介紹"
   ]
  },
  {
   "cell_type": "markdown",
   "id": "color-hamburg",
   "metadata": {},
   "source": [
    "# 跳脫字元 "
   ]
  },
  {
   "cell_type": "code",
   "execution_count": null,
   "id": "atmospheric-venue",
   "metadata": {},
   "outputs": [],
   "source": [
    "print('She said: \"It's raining.\"')"
   ]
  },
  {
   "cell_type": "code",
   "execution_count": null,
   "id": "overhead-mauritius",
   "metadata": {},
   "outputs": [],
   "source": [
    "print('She said: \"It\\'s raining.\"')"
   ]
  },
  {
   "cell_type": "code",
   "execution_count": null,
   "id": "stopped-raise",
   "metadata": {
    "scrolled": true
   },
   "outputs": [],
   "source": [
    "print('c:\\test\\new.txt') # \\t：空格 ； \\n：換行"
   ]
  },
  {
   "cell_type": "code",
   "execution_count": null,
   "id": "quantitative-barrier",
   "metadata": {},
   "outputs": [],
   "source": [
    "print(r'c:\\test\\new.txt')"
   ]
  },
  {
   "cell_type": "markdown",
   "id": "imported-mongolia",
   "metadata": {},
   "source": [
    "# 成員運算子 "
   ]
  },
  {
   "cell_type": "code",
   "execution_count": null,
   "id": "acceptable-roller",
   "metadata": {},
   "outputs": [],
   "source": [
    "b4 = 'Hello World'\n",
    "b5 = 'Hell'\n",
    "b6 = 'Hell ' # 注意空白也是字元\n",
    "print(b4 in b5)\n",
    "print(b5 in b4)\n",
    "print(b5 not in b4)\n",
    "print(b6 in b4)"
   ]
  },
  {
   "cell_type": "markdown",
   "id": "weekly-nicaragua",
   "metadata": {},
   "source": [
    "# 字串表示格式"
   ]
  },
  {
   "cell_type": "code",
   "execution_count": null,
   "id": "excess-geology",
   "metadata": {},
   "outputs": [],
   "source": [
    "name = '10'\n",
    "year = 1993\n",
    "print(f'{name} 出生於 {year} 年.') \n",
    "print(f'{name} 年齡為 {2021-int(year)}！')\n",
    "print()\n",
    "\n",
    "print(f'{year}')\n",
    "print(f'{year:.2f}') \n",
    "print(f'{year:10.2f}')\n",
    "print(f'{year:*^10.2f}')"
   ]
  },
  {
   "cell_type": "code",
   "execution_count": null,
   "id": "little-cream",
   "metadata": {},
   "outputs": [],
   "source": [
    "name = '10'\n",
    "year = 1993\n",
    "print('{} 出生於 {}'.format(name,year))\n",
    "print('{0} 出生於 {1}'.format(name, year)) #format(0,1)\n",
    "print('{1} 出生於 {0}'.format(name, year)) \n",
    "print('{x} 出生於 {y}'.format(x='ROC',y=1911))\n",
    "print('{:7.3f}'.format(20.12))"
   ]
  },
  {
   "cell_type": "code",
   "execution_count": null,
   "id": "healthy-knife",
   "metadata": {},
   "outputs": [],
   "source": [
    "name = '10'\n",
    "year = 1993\n",
    "print('%s 出生於 %d' % (name,year)) \n",
    "print('%s 出生於 %d' % (year,name)) "
   ]
  },
  {
   "cell_type": "markdown",
   "id": "identical-alert",
   "metadata": {},
   "source": [
    "# 函數、方法 "
   ]
  },
  {
   "cell_type": "code",
   "execution_count": null,
   "id": "marine-folder",
   "metadata": {},
   "outputs": [],
   "source": [
    "# 轉換\n",
    "b7 = 'the zeN of python'\n",
    "print('upper :',b7.upper())\n",
    "print('lower :',b7.lower())"
   ]
  },
  {
   "cell_type": "code",
   "execution_count": null,
   "id": "human-spain",
   "metadata": {
    "scrolled": true
   },
   "outputs": [],
   "source": [
    "# 判斷\n",
    "b8 = 'hello123'\n",
    "print('b8 ：',b8)\n",
    "print('len(b8) ：',len(b8)) #字串長度\n",
    "print('b8.isalpha() :   ', b8.isalpha()) #子母\n",
    "print('b8.isspace() :   ', b8.isspace()) #空白\n",
    "print()\n",
    "print('b8.isupper() :   ', b8.isupper()) #大寫\n",
    "print('b8.islower() :   ', b8.islower()) #小寫\n",
    "print()\n",
    "print('b8.isdigit() :   ', b8.isdigit()) #數字\n",
    "print('b8.isalnum():    ', b8.isalnum()) #字母跟數字"
   ]
  },
  {
   "cell_type": "code",
   "execution_count": null,
   "id": "incredible-groove",
   "metadata": {},
   "outputs": [],
   "source": [
    "# 切割，切割後資料型態為list\n",
    "print(\"Python programming is fun!\".split()) #split()沒有指定，預設為空白\n",
    "print(\"555-867-5309\".split('-'))\n",
    "print(\"123.456.txt\".split('.'))\n",
    "print(\"123.456.txt\".split('.',1)) #從前面開始切\n",
    "print(\"123.456.txt\".rsplit('.',1)) #從後面開始切"
   ]
  },
  {
   "cell_type": "code",
   "execution_count": null,
   "id": "tracked-function",
   "metadata": {
    "scrolled": true
   },
   "outputs": [],
   "source": [
    "# 改寫，注意！因字串為不可變，會將變更的字串匯入到新的ID上 \n",
    "b9 = 'hello123'\n",
    "print(b9.replace('123', '4561'))\n",
    "print(b9)\n",
    "print(id(b9.replace('12','3')))\n",
    "print(id(b9))"
   ]
  },
  {
   "cell_type": "code",
   "execution_count": null,
   "id": "comfortable-registration",
   "metadata": {},
   "outputs": [],
   "source": [
    "# 去除，指從頭或尾開始，中間不行。\n",
    "b10 = '  #### this is a book ####   '\n",
    "print(b10.rstrip())\n",
    "print(b10.lstrip())\n",
    "print(b10.strip())\n",
    "print(b10.strip().strip('#'))"
   ]
  },
  {
   "cell_type": "code",
   "execution_count": null,
   "id": "addressed-customs",
   "metadata": {},
   "outputs": [],
   "source": []
  }
 ],
 "metadata": {
  "kernelspec": {
   "display_name": "Python 3",
   "language": "python",
   "name": "python3"
  },
  "language_info": {
   "codemirror_mode": {
    "name": "ipython",
    "version": 3
   },
   "file_extension": ".py",
   "mimetype": "text/x-python",
   "name": "python",
   "nbconvert_exporter": "python",
   "pygments_lexer": "ipython3",
   "version": "3.8.7"
  }
 },
 "nbformat": 4,
 "nbformat_minor": 5
}
