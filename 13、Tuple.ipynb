{
 "cells": [
  {
   "cell_type": "code",
   "execution_count": null,
   "id": "upper-bottom",
   "metadata": {},
   "outputs": [],
   "source": [
    "tup1 = ('bdse', 'aien', 2015, 2018)\n",
    "tup2 = (1, 2, 3, 4, 5 )\n",
    "tup3 = \"a\", \"b\", \"c\", \"d\"\n",
    "tup4 = () \n",
    "tup5 = (50,) #一定要有逗號\n",
    "print(tup1, tup2, tup3, tup4, tup5)"
   ]
  },
  {
   "cell_type": "code",
   "execution_count": null,
   "id": "cardiac-summer",
   "metadata": {},
   "outputs": [],
   "source": [
    "tup6 = tuple(range(0,10,2))\n",
    "tup7 = tuple([1,2,3,4])\n",
    "tup8 = tuple('abcde')\n",
    "\n",
    "print(tup6)\n",
    "print(tup7)\n",
    "print(tup8)"
   ]
  },
  {
   "cell_type": "code",
   "execution_count": null,
   "id": "parallel-vegetation",
   "metadata": {},
   "outputs": [],
   "source": [
    "('Hi',)*4"
   ]
  },
  {
   "cell_type": "code",
   "execution_count": null,
   "id": "photographic-resort",
   "metadata": {},
   "outputs": [],
   "source": [
    "30 in (10,20,30)"
   ]
  },
  {
   "cell_type": "code",
   "execution_count": null,
   "id": "western-wells",
   "metadata": {},
   "outputs": [],
   "source": [
    "tup9 = (1, 2, 3, 4)\n",
    "for i in tup9:\n",
    "    print(i)"
   ]
  },
  {
   "cell_type": "markdown",
   "id": "rolled-handling",
   "metadata": {},
   "source": [
    "# 索引、切片 "
   ]
  },
  {
   "cell_type": "code",
   "execution_count": null,
   "id": "secondary-arabic",
   "metadata": {},
   "outputs": [],
   "source": [
    "tup10 = (1, 2, 3, 4, 5, 6, 7, 8, 9, 10)\n",
    "print(tup10[0])\n",
    "print(tup10[1:5])\n",
    "print(tup10[1:10:2])"
   ]
  },
  {
   "cell_type": "markdown",
   "id": "prostate-parcel",
   "metadata": {},
   "source": [
    "# 不可變動 "
   ]
  },
  {
   "cell_type": "code",
   "execution_count": null,
   "id": "steady-treasurer",
   "metadata": {
    "scrolled": false
   },
   "outputs": [],
   "source": [
    "tup11=(0, 2, 4, 6, 8)\n",
    "tup11[1] = 5 "
   ]
  },
  {
   "cell_type": "markdown",
   "id": "rapid-resistance",
   "metadata": {},
   "source": [
    "# 函數、方法 "
   ]
  },
  {
   "cell_type": "code",
   "execution_count": null,
   "id": "younger-bottle",
   "metadata": {
    "scrolled": true
   },
   "outputs": [],
   "source": [
    "tup12 = (1, 2, 3, 4, 5, 6, 7, 8, 9, 10)\n",
    "print(len(tup12)) # 長度\n",
    "print(max(tup12)) # 最大值\n",
    "print(min(tup12)) # 最小值\n",
    "print(sum(tup12)) # 總和\n",
    "print(sorted(tup12)) #排序，排序完成後傳換成List\n",
    "print(sorted(tup12,reverse = True))\n",
    "print(type(sorted(tup12)))"
   ]
  },
  {
   "cell_type": "code",
   "execution_count": null,
   "id": "lasting-parade",
   "metadata": {},
   "outputs": [],
   "source": [
    "tup13 = (1, 2, 2, 2, 3, 4, 2)\n",
    "print(tup13.count(2)) # 計算\n",
    "print(tup13.index(2)) # 索引"
   ]
  },
  {
   "cell_type": "code",
   "execution_count": null,
   "id": "boring-converter",
   "metadata": {},
   "outputs": [],
   "source": []
  }
 ],
 "metadata": {
  "kernelspec": {
   "display_name": "Python 3",
   "language": "python",
   "name": "python3"
  },
  "language_info": {
   "codemirror_mode": {
    "name": "ipython",
    "version": 3
   },
   "file_extension": ".py",
   "mimetype": "text/x-python",
   "name": "python",
   "nbconvert_exporter": "python",
   "pygments_lexer": "ipython3",
   "version": "3.8.7"
  }
 },
 "nbformat": 4,
 "nbformat_minor": 5
}
