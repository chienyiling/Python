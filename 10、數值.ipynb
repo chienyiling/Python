{
 "cells": [
  {
   "cell_type": "code",
   "execution_count": null,
   "id": "positive-avenue",
   "metadata": {},
   "outputs": [],
   "source": [
    "a1 = 10\n",
    "a2 = 10.\n",
    "a3 = a4 = 20\n",
    "print(a1,a2,a3,a4,sep=' , ')"
   ]
  },
  {
   "cell_type": "code",
   "execution_count": null,
   "id": "special-finger",
   "metadata": {},
   "outputs": [],
   "source": [
    "a5 = 10.2 \n",
    "a6 = 10.7 \n",
    "a7 = 10\n",
    "print(int(a5),int(a6),float(a7))"
   ]
  },
  {
   "cell_type": "code",
   "execution_count": null,
   "id": "encouraging-answer",
   "metadata": {},
   "outputs": [],
   "source": [
    "print('不可變動性，改變數值資料型態的值，其實是參考到另㇐個新建立的物件')\n",
    "a8 = 10\n",
    "print('id(a8=10) =',id(a8))\n",
    "a8 = 20\n",
    "print('id(a8=20) =',id(a8))"
   ]
  },
  {
   "cell_type": "code",
   "execution_count": 1,
   "id": "pretty-ultimate",
   "metadata": {},
   "outputs": [
    {
     "name": "stdout",
     "output_type": "stream",
     "text": [
      "10 + 5 = 15\n",
      "10 - 5 = 5\n",
      "10 * 5 = 50\n",
      "10 % 3 = 1\n",
      "10 ** 2 = 100\n",
      "\n",
      "特別解釋：必會出現小數點\n",
      "10 / 5 = 2.0\n",
      "10 / 3 = 3.3333333333333335\n",
      "\n",
      "特別解釋：取小於等於的最大整數\n",
      "9 / 2 = 4.5\n",
      "9 // 2 = 4\n",
      "\n",
      "-9 / 2 = -4.5\n",
      "-9 // 2 = -5\n"
     ]
    }
   ],
   "source": [
    "print('10 + 5 =',10+5)\n",
    "print('10 - 5 =',10-5)\n",
    "print('10 * 5 =',10*5)\n",
    "print('10 % 3 =',10%3)\n",
    "print('10 ** 2 =',10**2)\n",
    "\n",
    "print()\n",
    "print('特別解釋：必會出現小數點')\n",
    "print('10 / 5 =',10/5)\n",
    "print('10 / 3 =',10/3)\n",
    "\n",
    "print()\n",
    "print('特別解釋：取小於等於的最大整數')\n",
    "print('9 / 2 =',9/2)\n",
    "print('9 // 2 =',9//2)\n",
    "print()\n",
    "print('-9 / 2 =',-9/2)\n",
    "print('-9 // 2 =',-9//2)"
   ]
  },
  {
   "cell_type": "markdown",
   "id": "czech-piece",
   "metadata": {},
   "source": [
    "# 布林運算"
   ]
  },
  {
   "cell_type": "code",
   "execution_count": null,
   "id": "valued-output",
   "metadata": {},
   "outputs": [],
   "source": [
    "print('轉換成布林值')\n",
    "print('bool()空字串 =',bool(''))\n",
    "print('bool(123)數值 =',bool(123))\n",
    "print()\n",
    "\n",
    "print('廣義布林值做計算')\n",
    "print('True = ',0+True)\n",
    "print('False = ',0+False)"
   ]
  },
  {
   "cell_type": "code",
   "execution_count": null,
   "id": "fabulous-president",
   "metadata": {},
   "outputs": [],
   "source": [
    "bool1 = 5\n",
    "bool2 = 10\n",
    "print('bool1 =',bool1,' bool2 =',bool2)\n",
    "print('bool1 == bool2 = ',bool1 == bool2)\n",
    "print('bool1 is bool2 = ',bool1 is bool2)\n",
    "print('bool1 != bool2 = ',bool1 != bool2)\n",
    "print('bool1 > bool2 = ',bool1 > bool2)\n",
    "print('bool1 < bool2 = ',bool1 < bool2)\n",
    "print('bool1 >= bool2 = ',bool1 >= bool2)\n",
    "print('bool1 <= bool2 = ',bool1 <= bool2)"
   ]
  },
  {
   "cell_type": "code",
   "execution_count": null,
   "id": "duplicate-wellington",
   "metadata": {},
   "outputs": [],
   "source": [
    "bool3 = True\n",
    "bool4 = False  \n",
    "print('bool3 = True ',' bool4 = False')\n",
    "print('not bool3 :', not bool3)\n",
    "print('bool3 and bool4 :', bool3 and bool4)\n",
    "print('bool3 or bool4 :', bool3 or bool4)\n",
    "print()\n",
    "\n",
    "bool5 = 0.0\n",
    "bool6 = -50\n",
    "print('bool5 = 0.0 ',' bool6 = -50')\n",
    "print('bool5 = 0.0 → ',bool(bool5))\n",
    "print('bool6 = -50 → ',bool(bool6))\n",
    "print('not bool5 :', not bool5)\n",
    "print('bool5 and bool6 :', bool5 and bool6)\n",
    "print('bool5 or bool6 :', bool5 or bool6)"
   ]
  },
  {
   "cell_type": "code",
   "execution_count": null,
   "id": "better-hospital",
   "metadata": {},
   "outputs": [],
   "source": [
    "print('5 and 6 :', 5 and 6) \n",
    "print('5 and 0 :', 5 and 0)\n",
    "print('0 and 6 :', 0 and 6)\n",
    "print('0 and 0.0 :', 0 and 0.0)\n",
    "print()\n",
    "\n",
    "print('5 or 6  :', 5 or 6)  \n",
    "print('5 or 0  :', 5 or 0)  \n",
    "print('0 or 5  :', 0 or 5)  \n",
    "print('0 or 0.0  :', 0 or 0.0)  "
   ]
  }
 ],
 "metadata": {
  "kernelspec": {
   "display_name": "Python 3",
   "language": "python",
   "name": "python3"
  },
  "language_info": {
   "codemirror_mode": {
    "name": "ipython",
    "version": 3
   },
   "file_extension": ".py",
   "mimetype": "text/x-python",
   "name": "python",
   "nbconvert_exporter": "python",
   "pygments_lexer": "ipython3",
   "version": "3.8.7"
  }
 },
 "nbformat": 4,
 "nbformat_minor": 5
}
