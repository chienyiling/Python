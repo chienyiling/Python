{
 "cells": [
  {
   "cell_type": "code",
   "execution_count": null,
   "id": "incorporated-tonight",
   "metadata": {
    "scrolled": true
   },
   "outputs": [],
   "source": [
    "# 資料類型：數值\n",
    "int1 = 10\n",
    "int1"
   ]
  },
  {
   "cell_type": "code",
   "execution_count": null,
   "id": "north-screw",
   "metadata": {},
   "outputs": [],
   "source": [
    "# 資料類型：字串\n",
    "str1 = '10'\n",
    "str1"
   ]
  },
  {
   "cell_type": "code",
   "execution_count": null,
   "id": "intelligent-treasure",
   "metadata": {},
   "outputs": [],
   "source": [
    "# 只會執行最後一行指令\n",
    "int2 = 10\n",
    "int3 = 20\n",
    "int2\n",
    "int3"
   ]
  },
  {
   "cell_type": "code",
   "execution_count": null,
   "id": "growing-nickel",
   "metadata": {},
   "outputs": [],
   "source": [
    "int4 = 1+2+3+4\n",
    "+5+6 #沒用換行符號會顯示最後一行的結果"
   ]
  },
  {
   "cell_type": "code",
   "execution_count": null,
   "id": "funky-thomas",
   "metadata": {},
   "outputs": [],
   "source": [
    "int4 # 只會加第一行"
   ]
  },
  {
   "cell_type": "code",
   "execution_count": null,
   "id": "representative-palestinian",
   "metadata": {},
   "outputs": [],
   "source": [
    "int4 = 1+2+3+4\\\n",
    "+5+6\n",
    "int4 #使用換行符號會全部相加"
   ]
  }
 ],
 "metadata": {
  "kernelspec": {
   "display_name": "Python 3",
   "language": "python",
   "name": "python3"
  },
  "language_info": {
   "codemirror_mode": {
    "name": "ipython",
    "version": 3
   },
   "file_extension": ".py",
   "mimetype": "text/x-python",
   "name": "python",
   "nbconvert_exporter": "python",
   "pygments_lexer": "ipython3",
   "version": "3.8.7"
  }
 },
 "nbformat": 4,
 "nbformat_minor": 5
}
