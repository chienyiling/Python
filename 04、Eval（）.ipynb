{
 "cells": [
  {
   "cell_type": "code",
   "execution_count": 1,
   "id": "cross-uncle",
   "metadata": {},
   "outputs": [
    {
     "name": "stdout",
     "output_type": "stream",
     "text": [
      "eval1 = 150\n",
      "type(eval1) = <class 'int'>\n"
     ]
    }
   ],
   "source": [
    "eval1 = eval('5*30') \n",
    "print('eval1 =',eval1)\n",
    "print('type(eval1) =',type(eval1))"
   ]
  },
  {
   "cell_type": "code",
   "execution_count": 1,
   "id": "latest-chamber",
   "metadata": {},
   "outputs": [
    {
     "ename": "NameError",
     "evalue": "name 'bbb' is not defined",
     "output_type": "error",
     "traceback": [
      "\u001b[1;31m---------------------------------------------------------------------------\u001b[0m",
      "\u001b[1;31mNameError\u001b[0m                                 Traceback (most recent call last)",
      "\u001b[1;32m<ipython-input-1-0cccd7368e2a>\u001b[0m in \u001b[0;36m<module>\u001b[1;34m\u001b[0m\n\u001b[1;32m----> 1\u001b[1;33m \u001b[0meval\u001b[0m\u001b[1;33m(\u001b[0m\u001b[1;34m'bbb'\u001b[0m\u001b[1;33m)\u001b[0m\u001b[1;33m\u001b[0m\u001b[1;33m\u001b[0m\u001b[0m\n\u001b[0m",
      "\u001b[1;32m<string>\u001b[0m in \u001b[0;36m<module>\u001b[1;34m\u001b[0m\n",
      "\u001b[1;31mNameError\u001b[0m: name 'bbb' is not defined"
     ]
    }
   ],
   "source": [
    "eval('bbb')"
   ]
  },
  {
   "cell_type": "code",
   "execution_count": null,
   "id": "dietary-holocaust",
   "metadata": {},
   "outputs": [],
   "source": [
    "eval(5*30) "
   ]
  },
  {
   "cell_type": "code",
   "execution_count": null,
   "id": "fewer-inclusion",
   "metadata": {},
   "outputs": [],
   "source": [
    "eval2 = 200\n",
    "eval('eval2*5') "
   ]
  },
  {
   "cell_type": "code",
   "execution_count": 3,
   "id": "latter-racing",
   "metadata": {},
   "outputs": [
    {
     "data": {
      "text/plain": [
       "'BBBBB'"
      ]
     },
     "execution_count": 3,
     "metadata": {},
     "output_type": "execute_result"
    }
   ],
   "source": [
    "eval3 = 'B'\n",
    "eval('eval3*5')"
   ]
  },
  {
   "cell_type": "code",
   "execution_count": null,
   "id": "divided-quantity",
   "metadata": {},
   "outputs": [],
   "source": [
    "input3 = input('input number (ex. 5*6 or 9/4):')\n",
    "input3 "
   ]
  },
  {
   "cell_type": "code",
   "execution_count": null,
   "id": "criminal-verse",
   "metadata": {
    "scrolled": false
   },
   "outputs": [],
   "source": [
    "eval4= eval(input('input number (ex. 5*6 or 9/4):'))\n",
    "eval4"
   ]
  },
  {
   "cell_type": "code",
   "execution_count": null,
   "id": "worth-image",
   "metadata": {},
   "outputs": [],
   "source": []
  }
 ],
 "metadata": {
  "kernelspec": {
   "display_name": "Python 3",
   "language": "python",
   "name": "python3"
  },
  "language_info": {
   "codemirror_mode": {
    "name": "ipython",
    "version": 3
   },
   "file_extension": ".py",
   "mimetype": "text/x-python",
   "name": "python",
   "nbconvert_exporter": "python",
   "pygments_lexer": "ipython3",
   "version": "3.8.7"
  }
 },
 "nbformat": 4,
 "nbformat_minor": 5
}
