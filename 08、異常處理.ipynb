{
 "cells": [
  {
   "cell_type": "code",
   "execution_count": null,
   "id": "subtle-quarterly",
   "metadata": {},
   "outputs": [],
   "source": [
    "try: # 欲執行的程式碼\n",
    "    n1,n2 = eval(input('Input two integers(n1,n2): '))\n",
    "    r = n1/n2\n",
    "    print('r =', r)    \n",
    "except: #若程式碼出錯則會執行\n",
    "    print('Error: Input data or expression has error!') \n",
    "else: #若程式碼完整執行了則執行\n",
    "    print('Else: No errors!')\n",
    "finally: #不管程式碼有沒有出錯都會執行\n",
    "    print('Finally: Finish processing!')"
   ]
  },
  {
   "cell_type": "markdown",
   "id": "exotic-enemy",
   "metadata": {},
   "source": [
    "# Except 使用方法"
   ]
  },
  {
   "cell_type": "code",
   "execution_count": 3,
   "id": "legal-graphics",
   "metadata": {},
   "outputs": [
    {
     "name": "stdout",
     "output_type": "stream",
     "text": [
      "Input two integers(n1,n2): 10 0\n",
      "Error: Please separate input data by comma!\n",
      "finally\n"
     ]
    }
   ],
   "source": [
    "try:\n",
    "    n1,n2 = eval(input('Input two integers(n1,n2): '))\n",
    "    r = n1/n2\n",
    "    print('r =', r)    \n",
    "except SyntaxError: #輸入1;2可以測試此區塊\n",
    "    print('Error: Please separate input data by comma!')\n",
    "except ZeroDivisionError: #n2輸入0可以測試此區塊\n",
    "    print('Error: Devided by zero!')\n",
    "except: # 只輸入一個數字可以測試此區塊\n",
    "    print('Error: Input error!')\n",
    "else:\n",
    "    print('no error')\n",
    "finally:\n",
    "    print('finally')"
   ]
  },
  {
   "cell_type": "code",
   "execution_count": null,
   "id": "checked-persian",
   "metadata": {},
   "outputs": [],
   "source": [
    "try:\n",
    "    n1,n2 = eval(input('Input two integers(n1,n2): '))\n",
    "    r = n1/n2\n",
    "    print('r =', r)    \n",
    "except (SyntaxError,ZeroDivisionError):\n",
    "    print('Error: Please separate input data by comma! Or Devided by zero!')\n",
    "except:\n",
    "    print('Error: Input error!')\n",
    "else:\n",
    "    print('no error')\n",
    "finally:\n",
    "    print('finally')"
   ]
  },
  {
   "cell_type": "code",
   "execution_count": null,
   "id": "adjusted-mandate",
   "metadata": {},
   "outputs": [],
   "source": [
    "try:\n",
    "    num = eval(input('Enter a number: '))\n",
    "    print('value is', num)    \n",
    "except NameError as e: # 將錯誤訊息存入e裡面\n",
    "    print('Error: ',e)"
   ]
  },
  {
   "cell_type": "markdown",
   "id": "honest-sensitivity",
   "metadata": {},
   "source": [
    "# 自訂錯誤訊息"
   ]
  },
  {
   "cell_type": "code",
   "execution_count": null,
   "id": "distant-classics",
   "metadata": {},
   "outputs": [],
   "source": [
    "while True:\n",
    "    try:\n",
    "        lst1 = [1,2,3,4]\n",
    "        idx = int(input('Enter an index: '))\n",
    "        if not 0<=idx<4:\n",
    "            raise IndexError('Index out of range') # 直接執行except\n",
    "        print('Value is',lst1[idx])\n",
    "        break\n",
    "    except IndexError as e:\n",
    "        print('Index Error :', e)"
   ]
  },
  {
   "cell_type": "code",
   "execution_count": null,
   "id": "exceptional-routine",
   "metadata": {},
   "outputs": [],
   "source": [
    "my_passwd = 'isac'\n",
    "assert len(my_passwd) > 10, 'password is too short'"
   ]
  }
 ],
 "metadata": {
  "kernelspec": {
   "display_name": "Python 3",
   "language": "python",
   "name": "python3"
  },
  "language_info": {
   "codemirror_mode": {
    "name": "ipython",
    "version": 3
   },
   "file_extension": ".py",
   "mimetype": "text/x-python",
   "name": "python",
   "nbconvert_exporter": "python",
   "pygments_lexer": "ipython3",
   "version": "3.8.7"
  }
 },
 "nbformat": 4,
 "nbformat_minor": 5
}
