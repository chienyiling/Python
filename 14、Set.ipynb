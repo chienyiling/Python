{
 "cells": [
  {
   "cell_type": "markdown",
   "id": "streaming-suspect",
   "metadata": {},
   "source": [
    "# 無索引、切片 "
   ]
  },
  {
   "cell_type": "code",
   "execution_count": null,
   "id": "academic-manitoba",
   "metadata": {},
   "outputs": [],
   "source": [
    "set1 = {2,1,4,3}\n",
    "set2 = {1,2,3,4}\n",
    "print(f'set1 == set2 : {set1 == set2}')\n",
    "print(f'set1 is set2 : {set1 is set2}')"
   ]
  },
  {
   "cell_type": "code",
   "execution_count": null,
   "id": "patent-maria",
   "metadata": {
    "scrolled": true
   },
   "outputs": [],
   "source": [
    "set3 = {1,2,3,4}\n",
    "set3[1] "
   ]
  },
  {
   "cell_type": "code",
   "execution_count": null,
   "id": "strong-chicago",
   "metadata": {},
   "outputs": [],
   "source": [
    "set4 = set('66316666')\n",
    "print(set4, len(set4)) #無序、不可重複"
   ]
  },
  {
   "cell_type": "markdown",
   "id": "living-theorem",
   "metadata": {},
   "source": [
    "# 可變動 "
   ]
  },
  {
   "cell_type": "code",
   "execution_count": null,
   "id": "funny-purchase",
   "metadata": {},
   "outputs": [],
   "source": [
    "set5 = {1,2,3}; set6 = {3,4,5}\n",
    "print(set5,id(set5))\n",
    "\n",
    "set5.update(set6);\n",
    "print(set5,id(set5))\n",
    "# 函數下面會提"
   ]
  },
  {
   "cell_type": "markdown",
   "id": "fewer-habitat",
   "metadata": {},
   "source": [
    "# 函數、方法 "
   ]
  },
  {
   "cell_type": "code",
   "execution_count": null,
   "id": "independent-breeding",
   "metadata": {
    "scrolled": true
   },
   "outputs": [],
   "source": [
    "set7 = {1,2,3,4,5}\n",
    "print(len(set7))\n",
    "print(max(set7))\n",
    "print(min(set7))\n",
    "print(sum(set7))\n",
    "print(sorted(set7)) #排序，排序完成後傳換成List\n",
    "print(sorted(set7,reverse=True))"
   ]
  },
  {
   "cell_type": "code",
   "execution_count": null,
   "id": "crude-corps",
   "metadata": {},
   "outputs": [],
   "source": [
    "set8 = {1,2,3}; set9 = {3,4}\n",
    "\n",
    "set8.update(set9);\n",
    "print(set8)\n",
    "\n",
    "set8.add(1) #若已經有的值則不會加入\n",
    "print(set8)\n",
    "set8.add(5)  \n",
    "print(set8)\n",
    "\n",
    "set8.remove(1) #若沒有此值則會出錯\n",
    "print(set8)\n",
    "\n",
    "set8.discard(4) # 如果 elem 存在於 s ，則將其移除。此方法不會觸發 KeyError 的例外\n",
    "print(set8)\n",
    "\n",
    "x = set8.pop() # 隨機挑選一個刪除並回傳\n",
    "print(set8,x)"
   ]
  },
  {
   "cell_type": "code",
   "execution_count": null,
   "id": "periodic-crack",
   "metadata": {},
   "outputs": [],
   "source": []
  }
 ],
 "metadata": {
  "kernelspec": {
   "display_name": "Python 3",
   "language": "python",
   "name": "python3"
  },
  "language_info": {
   "codemirror_mode": {
    "name": "ipython",
    "version": 3
   },
   "file_extension": ".py",
   "mimetype": "text/x-python",
   "name": "python",
   "nbconvert_exporter": "python",
   "pygments_lexer": "ipython3",
   "version": "3.8.7"
  }
 },
 "nbformat": 4,
 "nbformat_minor": 5
}
