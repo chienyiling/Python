{
 "cells": [
  {
   "cell_type": "code",
   "execution_count": null,
   "id": "worth-chinese",
   "metadata": {},
   "outputs": [],
   "source": [
    "list1 = ['a', 'b', 'c', 'd']\n",
    "print(list1)\n",
    "list2 = 'a b c d'.split() # 字串做切割會變成List\n",
    "print(list2)\n",
    "list3 = ['bdse', 'aien', 2015, 2018]\n",
    "print(list3)\n",
    "list4 = []\n",
    "print(list4)\n",
    "print(list('abcd')) #轉換成 List的形式`,必須是個有序的資料（字串...）"
   ]
  },
  {
   "cell_type": "code",
   "execution_count": null,
   "id": "weekly-format",
   "metadata": {
    "scrolled": true
   },
   "outputs": [],
   "source": [
    "[1, 2, 3] + [4, 5, 6]"
   ]
  },
  {
   "cell_type": "code",
   "execution_count": null,
   "id": "standard-badge",
   "metadata": {},
   "outputs": [],
   "source": [
    "['Hi!'] * 4  # 是各個字串"
   ]
  },
  {
   "cell_type": "code",
   "execution_count": null,
   "id": "searching-defendant",
   "metadata": {},
   "outputs": [],
   "source": [
    "30 in [10, 20, 30]"
   ]
  },
  {
   "cell_type": "code",
   "execution_count": null,
   "id": "bigger-biotechnology",
   "metadata": {},
   "outputs": [],
   "source": [
    "list5 = [10, 20, 30]\n",
    "for i in list5: \n",
    "    print (i, end = ' ')"
   ]
  },
  {
   "cell_type": "markdown",
   "id": "revised-heaven",
   "metadata": {},
   "source": [
    "# 索引、切片 "
   ]
  },
  {
   "cell_type": "code",
   "execution_count": null,
   "id": "historical-guard",
   "metadata": {},
   "outputs": [],
   "source": [
    "list6 = ['fraser', 'grace', 'john', 'jess', 'jack', 23.5, 2019]\n",
    "print('list6 =                  ', list6)\n",
    "print('list6[0] =               ', list6[0])\n",
    "print('list6[0][0] =            ', list6[0][0], '\\n')\n",
    "\n",
    "print('list6[5] =               ', list6[5])\n",
    "print('list6[-1] =              ', list6[-1],'\\n')\n",
    "\n",
    "print('list6[1:5] =             ', list6[1:5])\n",
    "print('list6[1:6:2] =           ', list6[1:6:2])"
   ]
  },
  {
   "cell_type": "code",
   "execution_count": null,
   "id": "extraordinary-cutting",
   "metadata": {},
   "outputs": [],
   "source": [
    "list7 = ['a', ['bb', ['ccc', 'ddd'], 'ee', 'ff'], 'g', ['hh', 'ii'], 'j'] # List中可以放入List\n",
    "print('list7[1] :      ',list7[1])\n",
    "print('list7[1][1] :   ', list7[1][1])\n",
    "print('list7[1]][1][0] :', list7[1][1][0])\n",
    "print('list7[3] :      ',list7[3])"
   ]
  },
  {
   "cell_type": "markdown",
   "id": "interesting-drain",
   "metadata": {},
   "source": [
    "# 可變動 "
   ]
  },
  {
   "cell_type": "code",
   "execution_count": null,
   "id": "legendary-personal",
   "metadata": {},
   "outputs": [],
   "source": [
    "list8 = ['fraser', 'grace', 'john', 'jess', 'jack', 23.5, 2019]\n",
    "print('list8 :                    ', list8) \n",
    "print('id of list8 :', id(list8))\n",
    "\n",
    "list8[2]='Kevin'\n",
    "print(\"list8[2]='Kevin' :         \", list8) # 修改\n",
    "print('id of list8 :', id(list8))\n",
    "\n",
    "list8[-1:]=[2000, 23.5] # 一次改兩筆資料\n",
    "print('list8[-1:]=[2000, 23.5] :  ', list8) #list 可增加直接擴大\n",
    "print('id of list8 :', id(list8))"
   ]
  },
  {
   "cell_type": "markdown",
   "id": "affecting-sigma",
   "metadata": {},
   "source": [
    "# 函數、方法 "
   ]
  },
  {
   "cell_type": "code",
   "execution_count": null,
   "id": "weird-given",
   "metadata": {},
   "outputs": [],
   "source": [
    "list9 = [20, 10, 30]\n",
    "\n",
    "print('list9 =                       ', list9)\n",
    "print('len(list9) :                  ', len(list9)) # List長度\n",
    "print('max(list9) :                  ', max(list9)) # 取最大\n",
    "print('min(list9) :                  ', min(list9)) # 取最小\n",
    "print('sum(list9) :                  ', sum(list9)) #總和\n",
    "print('sorted(list9):                ', sorted(list9)) #由小排到大\n",
    "print('sorted(list9, reverse=True) : ', sorted(list9, reverse=True)) #由大排到小"
   ]
  },
  {
   "cell_type": "code",
   "execution_count": null,
   "id": "protecting-capture",
   "metadata": {},
   "outputs": [],
   "source": [
    "list10 = [4, 777, 11, 4]\n",
    "list11 = ['aa', 'bb']\n",
    "print('list10:                        ',list10)\n",
    "print('list11:                        ',list11)\n",
    "\n",
    "list10.append(list11) # 新增一個元素到 List的最後\n",
    "print('list10.append(list11) :        ',list10)\n",
    "list10.extend(list11) # 將 b 裡個元素加入 a 裡面，等同於 a + b\n",
    "print('list10.extend(list11) :        ',list10)\n",
    "list10.insert(2, 555) #指定位置插入元素\n",
    "print('list10.insert(2, 555) :        ',list10)\n",
    "\n",
    "y = list10.count(4) # 計算 List裡有幾個元素\n",
    "print('list10.count(4) :              ', y)\n",
    "\n",
    "x = list10.copy() # 數值雖然相同, 但記憶體位置不同\n",
    "print('list10.copy() ：               ',x)\n",
    "\n",
    "print('list10.index(777) :            ',list10.index(777)) # 索引，找到元素後輸出位置。只會找出第一個\n",
    "\n",
    "# pop會做兩件事情：\n",
    "# 1.將元素從 List裡刪除\n",
    "# 2.將刪除的元素回傳\n",
    "z = list10.pop()  #刪除指定位置，沒指定就是刪除最後一個元素\n",
    "print('list10.pop() :                 ',list10)  \n",
    "print('z:                             ', z)\n",
    "list10.remove(777)                                #刪除指定數值\n",
    "print('list10.remove(777) :           ',list10)\n",
    "\n",
    "list10.clear() #清空 List\n",
    "print('list10.clear() :               ',list10)"
   ]
  },
  {
   "cell_type": "code",
   "execution_count": null,
   "id": "concrete-ceremony",
   "metadata": {},
   "outputs": [],
   "source": [
    "list12 = ['saw', 'active', 'He', 'foxes', 'rich']\n",
    "list12.sort(key=len)  # 依照長度排序\n",
    "list12"
   ]
  },
  {
   "cell_type": "code",
   "execution_count": null,
   "id": "unnecessary-treasure",
   "metadata": {},
   "outputs": [],
   "source": []
  }
 ],
 "metadata": {
  "kernelspec": {
   "display_name": "Python 3",
   "language": "python",
   "name": "python3"
  },
  "language_info": {
   "codemirror_mode": {
    "name": "ipython",
    "version": 3
   },
   "file_extension": ".py",
   "mimetype": "text/x-python",
   "name": "python",
   "nbconvert_exporter": "python",
   "pygments_lexer": "ipython3",
   "version": "3.8.7"
  }
 },
 "nbformat": 4,
 "nbformat_minor": 5
}
