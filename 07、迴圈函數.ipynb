{
 "cells": [
  {
   "cell_type": "markdown",
   "id": "architectural-adolescent",
   "metadata": {},
   "source": [
    "# While"
   ]
  },
  {
   "cell_type": "code",
   "execution_count": null,
   "id": "perceived-allowance",
   "metadata": {},
   "outputs": [],
   "source": [
    "w = 0\n",
    "while w < 4: # 迴圈範圍 2~4行\n",
    "    print('w =', w)\n",
    "    w = w +1 \n",
    "print('Finished!')# while"
   ]
  },
  {
   "cell_type": "markdown",
   "id": "maritime-slope",
   "metadata": {},
   "source": [
    "# For"
   ]
  },
  {
   "cell_type": "code",
   "execution_count": null,
   "id": "wound-huntington",
   "metadata": {},
   "outputs": [],
   "source": [
    "print('range(5) =', end=' ') # 將結束字元改成空白\n",
    "for f1 in range(5): # 迴圈範圍 2~3行\n",
    "    print(f1, end=' ')\n",
    "    \n",
    "print()\n",
    "print('以上為range(5)的範圍')"
   ]
  },
  {
   "cell_type": "code",
   "execution_count": null,
   "id": "pressed-prague",
   "metadata": {},
   "outputs": [],
   "source": [
    "for i in range(1,6): # 迴圈範圍 1~4行\n",
    "    for j in range(1,6): # 迴圈範圍 2~3行\n",
    "        print(f'{i:1} * {j:1} = {i*j:2}', end='      ')\n",
    "    print()  # 當作換行使用"
   ]
  },
  {
   "cell_type": "code",
   "execution_count": null,
   "id": "ordered-duncan",
   "metadata": {},
   "outputs": [],
   "source": [
    "for f2 in range (1, 11): # 迴圈範圍 1~4行\n",
    "    if f2 % 2 == 1: # 條件範圍 2~3行\n",
    "        continue\n",
    "    print(f2, end=' ')"
   ]
  },
  {
   "cell_type": "code",
   "execution_count": null,
   "id": "brave-shelf",
   "metadata": {},
   "outputs": [],
   "source": [
    "S = [x**2 for x in range(10)]\n",
    "print(S)"
   ]
  },
  {
   "cell_type": "markdown",
   "id": "scientific-matthew",
   "metadata": {},
   "source": [
    "# Break、Continue"
   ]
  },
  {
   "cell_type": "code",
   "execution_count": null,
   "id": "characteristic-modification",
   "metadata": {},
   "outputs": [],
   "source": [
    "for i in range(1,7): # for i迴圈範圍 1~8行\n",
    "    for j in range(1,7): # for j迴圈範圍 2~7行\n",
    "        if i*j==4: \n",
    "            break # 結束此迴圈執行下一個迴圈 → 前往到for i的迴圈\n",
    "        elif i*j==24:\n",
    "            continue # 結束此次迴圈執行下一次迴圈 → 前往到for j的迴圈\n",
    "        print(f'{i:1}*{j:1} = {i*j:2}', end='  ')\n",
    "    print('')"
   ]
  }
 ],
 "metadata": {
  "kernelspec": {
   "display_name": "Python 3",
   "language": "python",
   "name": "python3"
  },
  "language_info": {
   "codemirror_mode": {
    "name": "ipython",
    "version": 3
   },
   "file_extension": ".py",
   "mimetype": "text/x-python",
   "name": "python",
   "nbconvert_exporter": "python",
   "pygments_lexer": "ipython3",
   "version": "3.8.7"
  }
 },
 "nbformat": 4,
 "nbformat_minor": 5
}
