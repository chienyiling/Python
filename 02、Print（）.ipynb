{
 "cells": [
  {
   "cell_type": "code",
   "execution_count": null,
   "id": "structured-drunk",
   "metadata": {},
   "outputs": [],
   "source": [
    "print ('Python is simple,', 'enjoy!')\n",
    "print ('Python is simple,', 'enjoy!',end='$$$$$$$') \n",
    "print ('Python is simple,', 'enjoy!',sep='-------') "
   ]
  },
  {
   "cell_type": "code",
   "execution_count": null,
   "id": "polish-unknown",
   "metadata": {},
   "outputs": [],
   "source": [
    "pri = '10'\n",
    "prs = 10\n",
    "print(pri)\n",
    "print(prs)"
   ]
  },
  {
   "cell_type": "code",
   "execution_count": null,
   "id": "cardiac-wheat",
   "metadata": {},
   "outputs": [],
   "source": [
    "print(10+10)\n",
    "print('a'+'b')\n",
    "print('a',10)\n",
    "print('a'+10)"
   ]
  },
  {
   "cell_type": "code",
   "execution_count": null,
   "id": "naughty-allen",
   "metadata": {},
   "outputs": [],
   "source": []
  }
 ],
 "metadata": {
  "kernelspec": {
   "display_name": "Python 3",
   "language": "python",
   "name": "python3"
  },
  "language_info": {
   "codemirror_mode": {
    "name": "ipython",
    "version": 3
   },
   "file_extension": ".py",
   "mimetype": "text/x-python",
   "name": "python",
   "nbconvert_exporter": "python",
   "pygments_lexer": "ipython3",
   "version": "3.8.7"
  }
 },
 "nbformat": 4,
 "nbformat_minor": 5
}
