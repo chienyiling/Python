{
 "cells": [
  {
   "cell_type": "markdown",
   "id": "least-phone",
   "metadata": {},
   "source": [
    "#  <font color=orange> 第一章、安裝 </font>"
   ]
  },
  {
   "cell_type": "markdown",
   "id": "wound-blues",
   "metadata": {},
   "source": [
    "## <font color=skyblue> 安裝項目 </font>\n",
    ">### 1. Python 3.8.7（64bit）\n",
    ">- 把「Add Python 3.x to PATH」的選取方塊打勾，這樣的目的是為了讓Windows可以找到最純的Python。\n",
    ">- 接著點擊「Customize installation」。\n",
    ">- 在Optional Features頁面內，把所有核取方塊打勾後點選下一步。\n",
    ">- 接著把「install for all users」的核取方塊打勾，其他的核取方塊則維持預設值，然後點選安裝。\n",
    ">- 安裝後，要記得點擊「Disable path length limit」(如果沒有出現此按鈕代表之前已經有設定過了)。\n",
    ">-<details>\n",
    "  <summary>image</summary>\n",
    "  <img src='./img/python_install.png' style='height:500px'>\n",
    "</details>\n",
    "\n",
    ">### 2. VSCode\n",
    "><br>※功用：檢查函數值在運作時的改變。\n",
    "># <font color=red>待補充</font>\n",
    "\n",
    ">### 3. Jupyter notebook\n",
    ">>#### 下載程序\n",
    ">>- 以<font color=red>系統管理員身分</font>的身分在命令提示字元中輸入指令：pip install jupyter notebook。\n",
    ">>- 使用exit離開系統管理員身分的命令提示字元。\n",
    ">>- 在要使用的目錄下輸入cmd，以<font color=red>一般使用者</font>的身分開啟命令提示字元。\n",
    ">>- 在命令提示字元中輸入指令 jupyter notebook ，即可以使用。\n",
    "\n",
    ">>#### 簡單說明\n",
    ">>- 是一個互動式筆記本，本質是一個Web 應用程式，主頁面由許多Cell組成。\n",
    ">>- Cell常用的有兩種：<br>1. Code Cell → 撰寫程式所使用。<br>2. Markdown Cell → 作筆記使用。\n",
    ">>- 常用快捷鍵：<br>1. Shift + Enter：執行程序。<br>2. A or B：新增Cell。<br>3. DD：刪除Cell。\n",
    "\n"
   ]
  },
  {
   "cell_type": "markdown",
   "id": "valued-virus",
   "metadata": {},
   "source": [
    "  "
   ]
  },
  {
   "cell_type": "markdown",
   "id": "false-terror",
   "metadata": {},
   "source": [
    "  "
   ]
  },
  {
   "cell_type": "markdown",
   "id": "rental-boulder",
   "metadata": {},
   "source": [
    "***"
   ]
  },
  {
   "cell_type": "markdown",
   "id": "forty-western",
   "metadata": {},
   "source": [
    "  "
   ]
  },
  {
   "cell_type": "markdown",
   "id": "private-awareness",
   "metadata": {},
   "source": [
    "  "
   ]
  },
  {
   "cell_type": "markdown",
   "id": "expanded-hurricane",
   "metadata": {},
   "source": [
    "#  <font color=orange> 第二章、簡介 </font>"
   ]
  },
  {
   "cell_type": "markdown",
   "id": "surface-barrier",
   "metadata": {},
   "source": [
    "## <font color=skyblue> 命令提示字元(簡稱cmd) </font>\n",
    ">### 1. 常用指令\n",
    ">- 變更目錄：cd <輸入想變更目錄>\n",
    ">- 查詢目錄：dir\n",
    ">- 建立目錄：md <輸入想建立目錄>\n",
    ">- 刪除目錄：rd <輸入想刪除目錄>\n",
    ">- 離開cmd：exit\n",
    "><br>※提醒：離開只能用這個方法，不能按叉叉。\n",
    "\n",
    ">### 2.與Python相關指令\n",
    ">- 查看版本：python -V(空白大寫V)\n",
    ">- 開啟Python：python\n",
    ">- 下指令的地方：＞＞＞\n",
    ">- 第二提示字元：．．．\n",
    ">- 開啟檔案：python XXX.py\n"
   ]
  },
  {
   "cell_type": "markdown",
   "id": "bright-cooling",
   "metadata": {},
   "source": [
    "## <font color=skyblue> 物件三要素 </font>\n",
    ">### 1.記憶體位置：id()\n",
    ">>#### 確認變數id：id(變數)\n",
    ">### 2.資料的值\n",
    ">>- 宣告變數可以用英文、數字、底線，但數字不能做開頭。\n",
    ">>- 禁止使用特殊字元。\n",
    ">### 3.資料的類型：type()\n",
    ">>#### 確認變數類型：type(變數)\n",
    ">>#### <font color=red> 有順序、無順序：區分在於有無索引、切片 </font>\n",
    ">>#### <font color=red> 可變動、不可變：區分在於ID裡的value可否更改 </font>\n",
    ">>#### 類型介紹\n",
    ">>- 數字： → 第三章，<font color=green> 無順序、不可變動 </font> <br>整數：int、浮點數：float\n",
    ">>- 字串：str → 第四章，<font color=green> 有順序、不可變動 </font> \n",
    ">>- 列表：list → 第章，<font color=green> 有順序、可變動 </font> \n",
    ">>- 元祖：tuple → 第章，<font color=green> 有順序、不可變動 </font> \n",
    ">>- 集合：set → 第章，<font color=green> 無順序、可變動 </font> \n",
    ">>- 字典：dict → 第章，<font color=green> 無順序、可變動 </font> \n",
    "\n",
    ">>#### 類型轉換\n",
    ">>只需將變數前面套用上面的資料類型英文即可。\n",
    ">><br>例如：\n",
    ">><br>a = 10 ← a資料類型：數值\n",
    ">><br>b = str(a)  ← a資料類型：數值、b資料類型：字串"
   ]
  },
  {
   "cell_type": "markdown",
   "id": "atomic-grant",
   "metadata": {},
   "source": [
    "## <font color=skyblue> 基本命令 </font>\n",
    ">### 1.資料輸出\n",
    ">>#### 直接呼叫\n",
    ">>- 可以分辨得出資料類型＂數字＂、＂字串＂的差別。\n",
    ">>- 只會執行最後一行的指令。\n",
    ">>- 若要換行，可以使用換行符號（\\）做連接。"
   ]
  },
  {
   "cell_type": "code",
   "execution_count": null,
   "id": "incorporated-tonight",
   "metadata": {
    "scrolled": true
   },
   "outputs": [],
   "source": [
    "# 資料類型：數值\n",
    "int1 = 10\n",
    "int1"
   ]
  },
  {
   "cell_type": "code",
   "execution_count": null,
   "id": "north-screw",
   "metadata": {},
   "outputs": [],
   "source": [
    "# 資料類型：字串\n",
    "str1 = '10'\n",
    "str1"
   ]
  },
  {
   "cell_type": "code",
   "execution_count": null,
   "id": "intelligent-treasure",
   "metadata": {},
   "outputs": [],
   "source": [
    "# 只會執行最後一行指令\n",
    "int2 = 10\n",
    "int3 = 20\n",
    "int2\n",
    "int3"
   ]
  },
  {
   "cell_type": "code",
   "execution_count": null,
   "id": "growing-nickel",
   "metadata": {},
   "outputs": [],
   "source": [
    "int4 = 1+2+3+4\n",
    "+5+6 #沒用換行符號會顯示最後一行的結果"
   ]
  },
  {
   "cell_type": "code",
   "execution_count": null,
   "id": "funky-thomas",
   "metadata": {},
   "outputs": [],
   "source": [
    "int4 # 只會加第一行"
   ]
  },
  {
   "cell_type": "code",
   "execution_count": null,
   "id": "representative-palestinian",
   "metadata": {},
   "outputs": [],
   "source": [
    "int4 = 1+2+3+4\\\n",
    "+5+6\n",
    "int4 #使用換行符號會全部相加"
   ]
  },
  {
   "cell_type": "markdown",
   "id": "favorite-bahamas",
   "metadata": {},
   "source": [
    ">>#### 使用Print()呼叫\n",
    ">>- print(輸出值,end,sep)\n",
    ">><br>end = 指定換行符號，預設值：換行（\\n）\n",
    ">><br>sep = 指定分隔符號，預設值：空白\n",
    ">>- 分辨不出資料類型＂數字＂、＂字串＂的差別。\n",
    ">>- 可以直接做運算\n",
    ">>- 以＂+＂區分輸出值，兩者資料型態必定要相同\n",
    ">><br>以＂,＂區分輸出值，兩者資料型態可以不相同"
   ]
  },
  {
   "cell_type": "code",
   "execution_count": null,
   "id": "structured-drunk",
   "metadata": {},
   "outputs": [],
   "source": [
    "print ('Python is simple,', 'enjoy!')\n",
    "print ('Python is simple,', 'enjoy!',end='$$$$$$$') \n",
    "print ('Python is simple,', 'enjoy!',sep='-------') "
   ]
  },
  {
   "cell_type": "code",
   "execution_count": null,
   "id": "polish-unknown",
   "metadata": {},
   "outputs": [],
   "source": [
    "pri = '10'\n",
    "prs = 10\n",
    "print(pri)\n",
    "print(prs)"
   ]
  },
  {
   "cell_type": "code",
   "execution_count": null,
   "id": "cardiac-wheat",
   "metadata": {},
   "outputs": [],
   "source": [
    "print(10+10)\n",
    "print('a'+'b')\n",
    "print('a',10)\n",
    "print('a'+10)"
   ]
  },
  {
   "cell_type": "markdown",
   "id": "independent-silver",
   "metadata": {},
   "source": [
    ">### 2.資料輸入：input()\n",
    ">- 輸入的資料型態必為字串"
   ]
  },
  {
   "cell_type": "code",
   "execution_count": null,
   "id": "reasonable-parallel",
   "metadata": {
    "scrolled": true
   },
   "outputs": [],
   "source": [
    "input1 = input() # 會直接顯示一個結果\n",
    "print('input1 ：',input1) # 再列印一個結果\n",
    "input2 = input('input2：')\n",
    "print('type(input2) =',type(input2))"
   ]
  },
  {
   "cell_type": "markdown",
   "id": "composite-glory",
   "metadata": {},
   "source": [
    ">### 3.eval()\n",
    ">- 輸入的資料型態必為字串\n",
    ">- 輸出的型態必為數值\n",
    ">- 常與input()搭配使用"
   ]
  },
  {
   "cell_type": "code",
   "execution_count": null,
   "id": "cross-uncle",
   "metadata": {},
   "outputs": [],
   "source": [
    "eval1 = eval('5*30') \n",
    "print('eval1 =',eval1)\n",
    "print('type(eval1) =',type(eval1))"
   ]
  },
  {
   "cell_type": "code",
   "execution_count": null,
   "id": "latest-chamber",
   "metadata": {},
   "outputs": [],
   "source": [
    "eval('bbb')"
   ]
  },
  {
   "cell_type": "code",
   "execution_count": null,
   "id": "dietary-holocaust",
   "metadata": {},
   "outputs": [],
   "source": [
    "eval(5*30) "
   ]
  },
  {
   "cell_type": "code",
   "execution_count": null,
   "id": "fewer-inclusion",
   "metadata": {},
   "outputs": [],
   "source": [
    "eval2 = 200\n",
    "eval('eval2*5') "
   ]
  },
  {
   "cell_type": "code",
   "execution_count": null,
   "id": "latter-racing",
   "metadata": {},
   "outputs": [],
   "source": [
    "eval3='B'\n",
    "eval('eval3*5')"
   ]
  },
  {
   "cell_type": "code",
   "execution_count": null,
   "id": "divided-quantity",
   "metadata": {},
   "outputs": [],
   "source": [
    "input3 = input('input number (ex. 5*6 or 9/4):')\n",
    "input3 "
   ]
  },
  {
   "cell_type": "code",
   "execution_count": null,
   "id": "criminal-verse",
   "metadata": {
    "scrolled": false
   },
   "outputs": [],
   "source": [
    "eval4= eval(input('input number (ex. 5*6 or 9/4):'))\n",
    "eval4"
   ]
  },
  {
   "cell_type": "markdown",
   "id": "electric-freedom",
   "metadata": {},
   "source": [
    ">### 3.range(起始值，結束值)\n",
    ">- 含起始值，不含結束值。"
   ]
  },
  {
   "cell_type": "code",
   "execution_count": null,
   "id": "micro-refund",
   "metadata": {
    "scrolled": true
   },
   "outputs": [],
   "source": [
    "print(range(10))"
   ]
  },
  {
   "cell_type": "code",
   "execution_count": null,
   "id": "blond-victor",
   "metadata": {},
   "outputs": [],
   "source": [
    "list(range(0,10,2))"
   ]
  },
  {
   "cell_type": "code",
   "execution_count": null,
   "id": "human-advice",
   "metadata": {
    "scrolled": true
   },
   "outputs": [],
   "source": [
    "list(range(10))"
   ]
  },
  {
   "cell_type": "markdown",
   "id": "warming-drama",
   "metadata": {},
   "source": [
    "  "
   ]
  },
  {
   "cell_type": "markdown",
   "id": "joint-currency",
   "metadata": {},
   "source": [
    "***"
   ]
  },
  {
   "cell_type": "markdown",
   "id": "angry-frank",
   "metadata": {},
   "source": [
    "  "
   ]
  },
  {
   "cell_type": "markdown",
   "id": "recorded-allah",
   "metadata": {},
   "source": [
    "  "
   ]
  },
  {
   "cell_type": "markdown",
   "id": "multiple-smooth",
   "metadata": {},
   "source": [
    "#  <font color=orange> 第三章、數字 </font> <font color=pink> - 無順序、不可變動 </font> "
   ]
  },
  {
   "cell_type": "markdown",
   "id": "chinese-cleaners",
   "metadata": {},
   "source": [
    "## <font color=skyblue> 宣告方式：直接用等號來指定值給變數 </font>\n",
    "- 整數：int \n",
    "- 浮點數：float"
   ]
  },
  {
   "cell_type": "code",
   "execution_count": null,
   "id": "tight-property",
   "metadata": {},
   "outputs": [],
   "source": [
    "a1 = 10\n",
    "a2 = 10.\n",
    "a3 = a4 = 20\n",
    "print(a1,a2,a3,a4)"
   ]
  },
  {
   "cell_type": "code",
   "execution_count": null,
   "id": "international-customer",
   "metadata": {},
   "outputs": [],
   "source": [
    "a5 = 10.2 # 無條件捨去小數\n",
    "a6 = 10.7 # 無條件捨去小數\n",
    "a7 = 10\n",
    "print(int(a5),int(a6),float(a7))"
   ]
  },
  {
   "cell_type": "code",
   "execution_count": null,
   "id": "spare-circular",
   "metadata": {},
   "outputs": [],
   "source": [
    "print('不可變動性，改變數值資料型態的值，其實是參考到另㇐個新建立的物件')\n",
    "a8 = 10\n",
    "print('id(a8=10) =',id(a8))\n",
    "a8 = 20\n",
    "print('id(a8=20) =',id(a8))"
   ]
  },
  {
   "cell_type": "markdown",
   "id": "norman-keyboard",
   "metadata": {},
   "source": [
    "## <font color=skyblue> 運算元 </font>\n",
    ">- ＂ + ＂： 加法 \n",
    ">- ＂ - ＂： 減法 \n",
    ">- ＂ *＂： 乘法 \n",
    ">- ＂ / ＂： 除法，必有小數點。 \n",
    ">- ＂ % ＂： 取餘數 \n",
    ">- ＂ ** ＂： 取次方\n",
    ">- ＂ // ＂： 取整數除法，取小於等於的最大整數"
   ]
  },
  {
   "cell_type": "code",
   "execution_count": null,
   "id": "thrown-meditation",
   "metadata": {},
   "outputs": [],
   "source": [
    "print('10 + 5 =',10+5)\n",
    "print('10 - 5 =',10-5)\n",
    "print('10 * 5 =',10*5)\n",
    "print('10 % 3 =',10%3)\n",
    "print('10 ** 2 =',10**2)\n",
    "\n",
    "print()\n",
    "print('特別解釋：必會出現小數點')\n",
    "print('10 / 5 =',10/5)\n",
    "print('10 / 3 =',10/3)\n",
    "\n",
    "print()\n",
    "print('特別解釋：取小於等於的最大整數')\n",
    "print('9 / 2 =',9/2)\n",
    "print('9 // 2 =',9//2)\n",
    "print()\n",
    "print('-9 / 2 =',-9/2)\n",
    "print('-9 // 2 =',-9//2)"
   ]
  },
  {
   "cell_type": "markdown",
   "id": "equal-working",
   "metadata": {},
   "source": [
    "## <font color=skyblue> 布林運算 </font>"
   ]
  },
  {
   "cell_type": "markdown",
   "id": "unlimited-litigation",
   "metadata": {},
   "source": [
    ">### 1.轉換成布林值：bool()\n",
    ">### 2.執行條件判斷時採用廣義布林值(如if判斷式、while迴圈、布林運算)\n",
    ">- False = 0：數字零、空字串、空列表、空集合、空元祖、空字典。\n",
    ">- True = 1：只要有數值。"
   ]
  },
  {
   "cell_type": "code",
   "execution_count": null,
   "id": "wicked-batman",
   "metadata": {
    "scrolled": true
   },
   "outputs": [],
   "source": [
    "print('轉換成布林值')\n",
    "print('bool()空字串 =',bool(''))\n",
    "print('bool(123)數值 =',bool(123))\n",
    "print()\n",
    "\n",
    "print('廣義布林值做計算')\n",
    "print('True = ',0+True)\n",
    "print('False = ',0+False)"
   ]
  },
  {
   "cell_type": "markdown",
   "id": "uniform-student",
   "metadata": {},
   "source": [
    ">### 3.運算元\n",
    ">- ＂ == ＂： 等於，判斷value是否相同\n",
    "><br> ＂ is ＂ ： 等於，判斷id是否相同\n",
    ">- ＂ != ＂： 不等於\n",
    ">- ＂ > ＂ ： 大於 \n",
    ">- ＂ < ＂ ： 小於\n",
    ">- ＂ >= ＂： 大於等於\n",
    ">- ＂ <= ＂： 小於等於"
   ]
  },
  {
   "cell_type": "code",
   "execution_count": null,
   "id": "voluntary-madness",
   "metadata": {},
   "outputs": [],
   "source": [
    "bool1 = 5\n",
    "bool2 = 10\n",
    "print('bool1 =',bool1,' bool2 =',bool2)\n",
    "print('bool1 == bool2 = ',bool1 == bool2)\n",
    "print('bool1 is bool2 = ',bool1 is bool2)\n",
    "print('bool1 != bool2 = ',bool1 != bool2)\n",
    "print('bool1 > bool2 = ',bool1 > bool2)\n",
    "print('bool1 < bool2 = ',bool1 < bool2)\n",
    "print('bool1 >= bool2 = ',bool1 >= bool2)\n",
    "print('bool1 <= bool2 = ',bool1 <= bool2)"
   ]
  },
  {
   "cell_type": "markdown",
   "id": "black-cruise",
   "metadata": {},
   "source": [
    ">### 4.真值表\n",
    ">- AND：要全部為對，結果才是Ture\n",
    "><br>當 and左邊 結果為True時，才會評估and右邊的數值，且and運算的結果由and右邊數值決定\n",
    "><br>當 and左邊 結果為False時，and右邊的數值就不需要去評估了，而and運算的結果就是False\n",
    ">- OR ：其中一個為真，結果就是Ture\n",
    "><br>當 or左邊 結果為False時，才會評估or右邊的值，且or運算的結果由or右邊的值決定\n",
    "><br>當 or左邊 結果為True時，or右邊的值就不需要評估了，而or運算的結果就是True\n",
    ">- XOR：兩者不相同，結果就是Ture\n",
    ">- NOT：為相反結果\n",
    ">## <font color=red>待補充二進為運算元Mod04</font>"
   ]
  },
  {
   "cell_type": "code",
   "execution_count": null,
   "id": "designed-genre",
   "metadata": {},
   "outputs": [],
   "source": [
    "bool3 = True\n",
    "bool4 = False  \n",
    "print('bool3 = True ',' bool4 = False')\n",
    "print('not bool3 :', not bool3)\n",
    "print('bool3 and bool4 :', bool3 and bool4)\n",
    "print('bool3 or bool4 :', bool3 or bool4)\n",
    "print()\n",
    "\n",
    "bool5 = 0.0\n",
    "bool6 = -50\n",
    "print('bool5 = 0.0 ',' bool6 = -50')\n",
    "print('bool5 = 0.0 → ',bool(bool5))\n",
    "print('bool6 = -50 → ',bool(bool6))\n",
    "print('not bool5 :', not bool5)\n",
    "print('bool5 and bool6 :', bool5 and bool6)\n",
    "print('bool5 or bool6 :', bool5 or bool6)"
   ]
  },
  {
   "cell_type": "code",
   "execution_count": null,
   "id": "induced-respondent",
   "metadata": {},
   "outputs": [],
   "source": [
    "print('5 and 6 :', 5 and 6) \n",
    "print('5 and 0 :', 5 and 0)\n",
    "print('0 and 6 :', 0 and 6)\n",
    "print('0 and 0.0 :', 0 and 0.0)\n",
    "print()\n",
    "\n",
    "print('5 or 6  :', 5 or 6)  \n",
    "print('5 or 0  :', 5 or 0)  \n",
    "print('0 or 5  :', 0 or 5)  \n",
    "print('0 or 0.0  :', 0 or 0.0)  "
   ]
  },
  {
   "cell_type": "markdown",
   "id": "south-cache",
   "metadata": {},
   "source": [
    "  "
   ]
  },
  {
   "cell_type": "markdown",
   "id": "governing-maine",
   "metadata": {},
   "source": [
    "  "
   ]
  },
  {
   "cell_type": "markdown",
   "id": "sunrise-hayes",
   "metadata": {},
   "source": [
    "***"
   ]
  },
  {
   "cell_type": "markdown",
   "id": "offensive-joyce",
   "metadata": {},
   "source": [
    "  "
   ]
  },
  {
   "cell_type": "markdown",
   "id": "shaped-algeria",
   "metadata": {},
   "source": [
    "  "
   ]
  },
  {
   "cell_type": "markdown",
   "id": "alpha-furniture",
   "metadata": {},
   "source": [
    "#  <font color=orange> 第四章、字串 </font> <font color=pink> - 有順序、不可變動 </font> \n",
    "## <font color=skyblue> 宣告方式：用單引號或雙引號將資料包覆 </font>\n",
    "- 字串：str\n",
    "- 在字串中使用加號( + )，來連接字串\n",
    "- 在字串中使用乘號( * )，來令字串重複出現，乘多少，重複多少次\n",
    "- 多列字串使用 ' ' ' （三個單引號）將文字框起來\n",
    "<br>※用print才會分段，使用互動式介面會將分段符號（\\）顯示出來"
   ]
  },
  {
   "cell_type": "code",
   "execution_count": null,
   "id": "pharmaceutical-detective",
   "metadata": {},
   "outputs": [],
   "source": [
    "b1 = 'it's nice'\n",
    "b1"
   ]
  },
  {
   "cell_type": "code",
   "execution_count": null,
   "id": "reliable-muscle",
   "metadata": {},
   "outputs": [],
   "source": [
    "b1 = \"it's nice\"\n",
    "b1"
   ]
  },
  {
   "cell_type": "code",
   "execution_count": null,
   "id": "crucial-sandwich",
   "metadata": {},
   "outputs": [],
   "source": [
    "print('A'+'B')\n",
    "print('A'*10)\n",
    "print('A'*10.0) #不能乘以浮點數"
   ]
  },
  {
   "cell_type": "markdown",
   "id": "trained-target",
   "metadata": {},
   "source": [
    "## <font color=skyblue> 索引與切片 </font>\n",
    ">### 索引值（index）\n",
    ">- 正序&rArr;從0開始的整數\n",
    ">- 反序&rArr;從-1開始的整數\n",
    "> <details>\n",
    "    <summary>圖示</summary>\n",
    "    <img src='.\\img\\strindex01.png'>\n",
    "  </details>\n",
    "\n",
    ">### 切片（slicing）\n",
    ">- 格式為 [起點:終點:間隔]\n",
    ">- 含起始值，不含終點值"
   ]
  },
  {
   "cell_type": "code",
   "execution_count": null,
   "id": "incident-atlanta",
   "metadata": {},
   "outputs": [],
   "source": [
    "var1 = 'Hello World'\n",
    "print(var1)\n",
    "print('var1[0] :      ', var1[0])\n",
    "print('var1[1:4] :    ', var1[1:4]) # 不指定間隔(預設為1)\n",
    "print('var1[5:1] :    ', var1[5:1]) # 開頭到結尾的順序，要與間隔的正負號一致，所以不能用[5:1]\n",
    "print('var1[:6] :     ', var1[:6]) # 不指定起點(預設從0開始)\n",
    "print('var1[::2] :    ', var1[::2]) # 不指定起點(預設從0開始)，不指定終點(預設到最後為止)，隔一個選取\n",
    "print('var1[::-1] :   ', var1[::-1]) # 倒序\n",
    "print('var1[::-2] :   ', var1[::-2]) # 倒序，且間隔為2 \n",
    "print('var1[-1] :     ', var1[-1])\n",
    "print('var1[-11:-2] : ', var1[-11:-2]) \n",
    "print('var1[-2:-11] : ', var1[-2:-11]) # 間隔為1，所以不能用[-2:-11]\n",
    "print('var1[3:-2] :   ', var1[3:-2])\n",
    "print('var1[3:-2:2] : ', var1[3:-2:2])"
   ]
  },
  {
   "cell_type": "markdown",
   "id": "bigger-battle",
   "metadata": {},
   "source": [
    "## <font color=skyblue> 字串不可變性 </font>"
   ]
  },
  {
   "cell_type": "code",
   "execution_count": null,
   "id": "saving-richardson",
   "metadata": {
    "scrolled": true
   },
   "outputs": [],
   "source": [
    "b2 = 'Hello World!'\n",
    "b2[4]='W'  "
   ]
  },
  {
   "cell_type": "code",
   "execution_count": null,
   "id": "occupational-failing",
   "metadata": {},
   "outputs": [],
   "source": [
    "b3 = 'this is a string'\n",
    "print(b3, id(b3))\n",
    "print(b3.replace('string', 'longer string'), id(b3.replace('string', 'longer string')))\n",
    "# replace 為字串的方法，下面會介紹"
   ]
  },
  {
   "cell_type": "markdown",
   "id": "color-hamburg",
   "metadata": {},
   "source": [
    "## <font color=skyblue> 跳脫字元 </font>\n",
    ">- ＂\\＂：在要忽略的地方增加此符號\n",
    ">- ＂r＂：不解釋任何跳脫字元特殊字元"
   ]
  },
  {
   "cell_type": "code",
   "execution_count": null,
   "id": "atmospheric-venue",
   "metadata": {},
   "outputs": [],
   "source": [
    "print('She said: \"It's raining.\"')"
   ]
  },
  {
   "cell_type": "code",
   "execution_count": null,
   "id": "overhead-mauritius",
   "metadata": {},
   "outputs": [],
   "source": [
    "print('She said: \"It\\'s raining.\"')"
   ]
  },
  {
   "cell_type": "code",
   "execution_count": null,
   "id": "stopped-raise",
   "metadata": {
    "scrolled": true
   },
   "outputs": [],
   "source": [
    "print('c:\\test\\new.txt') # \\t：空格 ； \\n：換行"
   ]
  },
  {
   "cell_type": "code",
   "execution_count": null,
   "id": "quantitative-barrier",
   "metadata": {},
   "outputs": [],
   "source": [
    "print(r'c:\\test\\new.txt')"
   ]
  },
  {
   "cell_type": "markdown",
   "id": "imported-mongolia",
   "metadata": {},
   "source": [
    "## <font color=skyblue> 成員運算子 </font>"
   ]
  },
  {
   "cell_type": "code",
   "execution_count": null,
   "id": "exceptional-oliver",
   "metadata": {},
   "outputs": [],
   "source": [
    "b4 = 'Hello World'\n",
    "b5 = 'Hell'\n",
    "b6 = 'Hell ' # 注意空白也是字元\n",
    "print(b4 in b5)\n",
    "print(b5 in b4)\n",
    "print(b5 not in b4)\n",
    "print(b6 in b4)"
   ]
  },
  {
   "cell_type": "markdown",
   "id": "tribal-victory",
   "metadata": {},
   "source": [
    "## <font color=skyblue> 字串表示格式 </font>\n",
    ">### 1. f-string ：大括號裡可以放字串、變數、執行方法\n",
    ">- f ' {輸出值:補充空白字元 對齊 總長度.小數點長度f }\n",
    "><br>補充空白字元：預設值為空白\n",
    "><br>對齊：> 靠右；^ 至中；< 靠左，預設為靠右\n",
    "><br>總長度：如果變數長度超過指定長度，以變數長度為主"
   ]
  },
  {
   "cell_type": "code",
   "execution_count": null,
   "id": "identical-excess",
   "metadata": {},
   "outputs": [],
   "source": [
    "name = '10'\n",
    "year = 1993\n",
    "print(f'{name} 出生於 {year} 年.') \n",
    "print(f'{name} 年齡為 {2021-int(year)}！')\n",
    "print()\n",
    "\n",
    "print(f'{year}')\n",
    "print(f'{year:.2f}') \n",
    "print(f'{year:10.2f}')\n",
    "print(f'{year:*^10.2f}')"
   ]
  },
  {
   "cell_type": "markdown",
   "id": "metallic-reproduction",
   "metadata": {},
   "source": [
    ">### 2. format用法\n",
    ">- {}.format(輸出值回應道大括弧)\n",
    ">-數值用法語f-string相同"
   ]
  },
  {
   "cell_type": "code",
   "execution_count": null,
   "id": "behavioral-visiting",
   "metadata": {},
   "outputs": [],
   "source": [
    "name = '10'\n",
    "year = 1993\n",
    "print('{} 出生於 {}'.format(name,year))\n",
    "print('{0} 出生於 {1}'.format(name, year)) #format(0,1)\n",
    "print('{1} 出生於 {0}'.format(name, year)) \n",
    "print('{x} 出生於 {y}'.format(x='ROC',y=1911))\n",
    "print('{:7.3f}'.format(20.12))"
   ]
  },
  {
   "cell_type": "markdown",
   "id": "surrounded-gravity",
   "metadata": {},
   "source": [
    ">### 3. %用法\n",
    ">- %s：指定字串，%d：指定數值"
   ]
  },
  {
   "cell_type": "code",
   "execution_count": null,
   "id": "infrared-animation",
   "metadata": {},
   "outputs": [],
   "source": [
    "name = '10'\n",
    "year = 1993\n",
    "print('%s 出生於 %d' % (name,year)) \n",
    "print('%s 出生於 %d' % (year,name)) "
   ]
  },
  {
   "cell_type": "markdown",
   "id": "identical-alert",
   "metadata": {},
   "source": [
    "## <font color=skyblue> 函數、方法 </font>"
   ]
  },
  {
   "cell_type": "code",
   "execution_count": null,
   "id": "marine-folder",
   "metadata": {},
   "outputs": [],
   "source": [
    "# 轉換\n",
    "b7 = 'the zeN of python'\n",
    "print('upper :',b7.upper())\n",
    "print('lower :',b7.lower())"
   ]
  },
  {
   "cell_type": "code",
   "execution_count": null,
   "id": "human-spain",
   "metadata": {
    "scrolled": true
   },
   "outputs": [],
   "source": [
    "# 判斷\n",
    "b8 = 'hello123'\n",
    "print('b8 ：',b8)\n",
    "print('len(b8) ：',len(b8)) #字串長度\n",
    "print('b8.isalpha() :   ', b8.isalpha()) #子母\n",
    "print('b8.isspace() :   ', b8.isspace()) #空白\n",
    "print()\n",
    "print('b8.isupper() :   ', b8.isupper()) #大寫\n",
    "print('b8.islower() :   ', b8.islower()) #小寫\n",
    "print()\n",
    "print('b8.isdigit() :   ', b8.isdigit()) #數字\n",
    "print('b8.isalnum():    ', b8.isalnum()) #字母跟數字"
   ]
  },
  {
   "cell_type": "code",
   "execution_count": null,
   "id": "incredible-groove",
   "metadata": {},
   "outputs": [],
   "source": [
    "# 切割，切割後資料型態為list\n",
    "print(\"Python programming is fun!\".split()) #split()沒有指定，預設為空白\n",
    "print(\"555-867-5309\".split('-'))\n",
    "print(\"123.456.txt\".split('.'))\n",
    "print(\"123.456.txt\".split('.',1)) #從前面開始切\n",
    "print(\"123.456.txt\".rsplit('.',1)) #從後面開始切"
   ]
  },
  {
   "cell_type": "code",
   "execution_count": null,
   "id": "tracked-function",
   "metadata": {
    "scrolled": true
   },
   "outputs": [],
   "source": [
    "# 改寫，注意！因字串為不可變，會將變更的字串匯入到新的ID上 \n",
    "b9 = 'hello123'\n",
    "print(b9.replace('123', '4561'))\n",
    "print(b9)\n",
    "print(id(b9.replace('12','3')))\n",
    "print(id(b9))"
   ]
  },
  {
   "cell_type": "code",
   "execution_count": null,
   "id": "comfortable-registration",
   "metadata": {},
   "outputs": [],
   "source": [
    "# 去除，指從頭或尾開始，中間不行。\n",
    "b10 = '  #### this is a book ####   '\n",
    "print(b10.rstrip())\n",
    "print(b10.lstrip())\n",
    "print(b10.strip())\n",
    "print(b10.strip().strip('#'))"
   ]
  },
  {
   "cell_type": "markdown",
   "id": "southern-trace",
   "metadata": {},
   "source": [
    "  "
   ]
  },
  {
   "cell_type": "markdown",
   "id": "arranged-meter",
   "metadata": {},
   "source": [
    "  "
   ]
  },
  {
   "cell_type": "markdown",
   "id": "young-husband",
   "metadata": {},
   "source": [
    "***"
   ]
  },
  {
   "cell_type": "markdown",
   "id": "latin-loading",
   "metadata": {},
   "source": [
    "  "
   ]
  },
  {
   "cell_type": "markdown",
   "id": "understanding-merit",
   "metadata": {},
   "source": [
    "  "
   ]
  },
  {
   "cell_type": "markdown",
   "id": "simple-sound",
   "metadata": {},
   "source": [
    "#  <font color=orange> 第五章、條件函數 </font>\n",
    "## <font color=skyblue> If - Elif - Else </font>\n",
    ">### <font color=red> 判斷式後面要加＂：＂ </font>\n",
    ">- 1. if <條件> else\n",
    "><br>條件成立則執行，不成立則不執行或執行else。\n",
    ">- 2. if <條件> elif <條件> else\n",
    "><br>多條件使用elif進行。 \n"
   ]
  },
  {
   "cell_type": "code",
   "execution_count": null,
   "id": "falling-russian",
   "metadata": {},
   "outputs": [],
   "source": [
    "i1 = int(input('輸入分數: '))\n",
    "\n",
    "if i1 >= 60:\n",
    "    print(\"通過!\")\n",
    "else:\n",
    "    print(\"不通過!\")"
   ]
  },
  {
   "cell_type": "code",
   "execution_count": null,
   "id": "about-effect",
   "metadata": {},
   "outputs": [],
   "source": [
    "i2 = int(input('輸入分數(i2): '))\n",
    "if i2 < 0: # 如果符合後面就不會再執行\n",
    "    print('Error')\n",
    "elif i2 < 60: # \n",
    "    print('0 <= i2 < 60','不及格')\n",
    "elif i2 < 80:\n",
    "    print('60 <= i2 < 80','待加強')\n",
    "elif i2 < 100:\n",
    "    print('80 <= i2 < 100','很讚！')\n",
    "else:\n",
    "    print('Error')"
   ]
  },
  {
   "cell_type": "markdown",
   "id": "colonial-coordinator",
   "metadata": {},
   "source": [
    "## <font color=skyblue> 簡化 </font>\n",
    ">- x if C else y\n",
    "><br>先評估C的條件，如果 C 的結果為真則得到 x，否則結果為 y"
   ]
  },
  {
   "cell_type": "code",
   "execution_count": null,
   "id": "global-threshold",
   "metadata": {},
   "outputs": [],
   "source": [
    "i3 = 9\n",
    "i4 = 3 if i3 == 7 else 5 \n",
    "i4"
   ]
  },
  {
   "cell_type": "markdown",
   "id": "sharp-physiology",
   "metadata": {},
   "source": [
    "  "
   ]
  },
  {
   "cell_type": "markdown",
   "id": "japanese-reminder",
   "metadata": {},
   "source": [
    "  "
   ]
  },
  {
   "cell_type": "markdown",
   "id": "other-reduction",
   "metadata": {},
   "source": [
    "***"
   ]
  },
  {
   "cell_type": "markdown",
   "id": "racial-preference",
   "metadata": {},
   "source": [
    "  "
   ]
  },
  {
   "cell_type": "markdown",
   "id": "employed-force",
   "metadata": {},
   "source": [
    "  "
   ]
  },
  {
   "cell_type": "markdown",
   "id": "answering-involvement",
   "metadata": {},
   "source": [
    "#  <font color=orange> 第六章、迴圈函數 </font>\n",
    "## <font color=skyblue> While迴圈 </font>\n",
    "### <font color=red> 條件後面要加＂：＂ </font>\n",
    "- While <條件>\n",
    "<br>成立執行迴圈，不成立跳出迴圈。"
   ]
  },
  {
   "cell_type": "code",
   "execution_count": null,
   "id": "still-moscow",
   "metadata": {},
   "outputs": [],
   "source": [
    "w = 0\n",
    "while w < 4: # 迴圈範圍 2~4行\n",
    "    print('w =', w)\n",
    "    w = w +1 \n",
    "print('Finished!')"
   ]
  },
  {
   "cell_type": "markdown",
   "id": "developed-iraqi",
   "metadata": {},
   "source": [
    "## <font color=skyblue> For迴圈 </font>\n",
    "### <font color=red> 範圍後面要加＂：＂ </font>\n",
    ">### 1. 應用\n",
    ">- For <範圍>\n",
    "><br>在範圍內次數執行迴圈。"
   ]
  },
  {
   "cell_type": "code",
   "execution_count": null,
   "id": "wound-huntington",
   "metadata": {},
   "outputs": [],
   "source": [
    "print('range(5) =', end=' ') # 將結束字元改成空白\n",
    "for f1 in range(5): # 迴圈範圍 2~3行\n",
    "    print(f1, end=' ')\n",
    "    \n",
    "print()\n",
    "print('以上為range(5)的範圍')"
   ]
  },
  {
   "cell_type": "markdown",
   "id": "loaded-luxury",
   "metadata": {},
   "source": [
    ">### 2. 雙重迴圈"
   ]
  },
  {
   "cell_type": "code",
   "execution_count": null,
   "id": "pressed-prague",
   "metadata": {},
   "outputs": [],
   "source": [
    "for i in range(1,6): # 迴圈範圍 1~4行\n",
    "    for j in range(1,6): # 迴圈範圍 2~3行\n",
    "        print(f'{i:1} * {j:1} = {i*j:2}', end='      ')\n",
    "    print()  # 當作換行使用"
   ]
  },
  {
   "cell_type": "markdown",
   "id": "threatened-rally",
   "metadata": {},
   "source": [
    ">### 2. for迴圈搭配If（條件函數）"
   ]
  },
  {
   "cell_type": "code",
   "execution_count": null,
   "id": "ordered-duncan",
   "metadata": {},
   "outputs": [],
   "source": [
    "for f2 in range (1, 11): # 迴圈範圍 1~4行\n",
    "    if f2 % 2 == 1: # 條件範圍 2~3行\n",
    "        continue\n",
    "    print(f2, end=' ')"
   ]
  },
  {
   "cell_type": "markdown",
   "id": "quiet-indicator",
   "metadata": {},
   "source": [
    ">### 3. Break、Continue\n",
    ">- break：結束此迴圈執行下一個迴圈 \n",
    ">- continue：結束此次迴圈執行下一次迴圈"
   ]
  },
  {
   "cell_type": "code",
   "execution_count": null,
   "id": "nasty-union",
   "metadata": {},
   "outputs": [],
   "source": [
    "for i in range(1,7): # for i迴圈範圍 1~8行\n",
    "    for j in range(1,7): # for j迴圈範圍 2~7行\n",
    "        if i*j==4: \n",
    "            break # 結束此迴圈執行下一個迴圈 → 前往到for i的迴圈\n",
    "        elif i*j==24:\n",
    "            continue # 結束此次迴圈執行下一次迴圈 → 前往到for j的迴圈\n",
    "        print(f'{i:1}*{j:1} = {i*j:2}', end='  ')\n",
    "    print('')"
   ]
  },
  {
   "cell_type": "markdown",
   "id": "undefined-filling",
   "metadata": {},
   "source": [
    ">### 4. 簡化"
   ]
  },
  {
   "cell_type": "code",
   "execution_count": null,
   "id": "brave-shelf",
   "metadata": {},
   "outputs": [],
   "source": [
    "S = [x**2 for x in range(10)]\n",
    "print(S)"
   ]
  },
  {
   "cell_type": "markdown",
   "id": "operational-martin",
   "metadata": {},
   "source": [
    "  "
   ]
  },
  {
   "cell_type": "markdown",
   "id": "formed-original",
   "metadata": {},
   "source": [
    "  "
   ]
  },
  {
   "cell_type": "markdown",
   "id": "empty-sleeping",
   "metadata": {},
   "source": [
    "***"
   ]
  },
  {
   "cell_type": "markdown",
   "id": "legitimate-weapon",
   "metadata": {},
   "source": [
    "  "
   ]
  },
  {
   "cell_type": "markdown",
   "id": "conceptual-dodge",
   "metadata": {},
   "source": [
    "  "
   ]
  },
  {
   "cell_type": "markdown",
   "id": "every-mills",
   "metadata": {},
   "source": [
    "#  <font color=orange> 第七章、List </font><font color=pink> - 有順序、可變動 </font> \n",
    "## <font color=skyblue> 簡介 </font>\n",
    "- 允許多個重複的元素\n",
    "- 允許List內的元素為不同型態\n",
    "- 使用[ ]來表示"
   ]
  },
  {
   "cell_type": "code",
   "execution_count": null,
   "id": "worth-chinese",
   "metadata": {},
   "outputs": [],
   "source": [
    "list1 = ['a', 'b', 'c', 'd']\n",
    "print(list1)\n",
    "list2 = 'a b c d'.split() # 字串做切割會變成List\n",
    "print(list2)\n",
    "list3 = ['bdse', 'aien', 2015, 2018]\n",
    "print(list3)\n",
    "list4 = []\n",
    "print(list4)\n",
    "print(list('abcd')) #轉換成 List的形式`,必須是個有序的資料（字串...）"
   ]
  },
  {
   "cell_type": "code",
   "execution_count": null,
   "id": "weekly-format",
   "metadata": {
    "scrolled": true
   },
   "outputs": [],
   "source": [
    "[1, 2, 3] + [4, 5, 6]"
   ]
  },
  {
   "cell_type": "code",
   "execution_count": null,
   "id": "standard-badge",
   "metadata": {},
   "outputs": [],
   "source": [
    "['Hi!'] * 4  # 是各個字串"
   ]
  },
  {
   "cell_type": "code",
   "execution_count": null,
   "id": "searching-defendant",
   "metadata": {},
   "outputs": [],
   "source": [
    "30 in [10, 20, 30]"
   ]
  },
  {
   "cell_type": "code",
   "execution_count": null,
   "id": "bigger-biotechnology",
   "metadata": {},
   "outputs": [],
   "source": [
    "list5 = [10, 20, 30]\n",
    "for i in list5: \n",
    "    print (i, end = ' ')"
   ]
  },
  {
   "cell_type": "markdown",
   "id": "revised-heaven",
   "metadata": {},
   "source": [
    "## <font color=skyblue> 索引、切片 </font>"
   ]
  },
  {
   "cell_type": "code",
   "execution_count": null,
   "id": "historical-guard",
   "metadata": {},
   "outputs": [],
   "source": [
    "list6 = ['fraser', 'grace', 'john', 'jess', 'jack', 23.5, 2019]\n",
    "print('list6 =                  ', list6)\n",
    "print('list6[0] =               ', list6[0])\n",
    "print('list6[0][0] =            ', list6[0][0], '\\n')\n",
    "\n",
    "print('list6[5] =               ', list6[5])\n",
    "print('list6[-1] =              ', list6[-1],'\\n')\n",
    "\n",
    "print('list6[1:5] =             ', list6[1:5])\n",
    "print('list6[1:6:2] =           ', list6[1:6:2])"
   ]
  },
  {
   "cell_type": "code",
   "execution_count": null,
   "id": "extraordinary-cutting",
   "metadata": {},
   "outputs": [],
   "source": [
    "list7 = ['a', ['bb', ['ccc', 'ddd'], 'ee', 'ff'], 'g', ['hh', 'ii'], 'j'] # List中可以放入List\n",
    "print('list7[1] :      ',list7[1])\n",
    "print('list7[1][1] :   ', list7[1][1])\n",
    "print('list7[1]][1][0] :', list7[1][1][0])\n",
    "print('list7[3] :      ',list7[3])"
   ]
  },
  {
   "cell_type": "markdown",
   "id": "interesting-drain",
   "metadata": {},
   "source": [
    "## <font color=skyblue> 可變動 </font>"
   ]
  },
  {
   "cell_type": "code",
   "execution_count": null,
   "id": "legendary-personal",
   "metadata": {},
   "outputs": [],
   "source": [
    "list8 = ['fraser', 'grace', 'john', 'jess', 'jack', 23.5, 2019]\n",
    "print('list8 :                    ', list8) \n",
    "print('id of list8 :', id(list8))\n",
    "\n",
    "list8[2]='Kevin'\n",
    "print(\"list8[2]='Kevin' :         \", list8) # 修改\n",
    "print('id of list8 :', id(list8))\n",
    "\n",
    "list8[-1:]=[2000, 23.5] # 一次改兩筆資料\n",
    "print('list8[-1:]=[2000, 23.5] :  ', list8) #list 可增加直接擴大\n",
    "print('id of list8 :', id(list8))"
   ]
  },
  {
   "cell_type": "markdown",
   "id": "affecting-sigma",
   "metadata": {},
   "source": [
    "## <font color=skyblue> 函數、方法 </font>"
   ]
  },
  {
   "cell_type": "code",
   "execution_count": null,
   "id": "weird-given",
   "metadata": {},
   "outputs": [],
   "source": [
    "list9 = [20, 10, 30]\n",
    "\n",
    "print('list9 =                       ', list9)\n",
    "print('len(list9) :                  ', len(list9)) # List長度\n",
    "print('max(list9) :                  ', max(list9)) # 取最大\n",
    "print('min(list9) :                  ', min(list9)) # 取最小\n",
    "print('sum(list9) :                  ', sum(list9)) #總和\n",
    "print('sorted(list9):                ', sorted(list9)) #由小排到大\n",
    "print('sorted(list9, reverse=True) : ', sorted(list9, reverse=True)) #由大排到小"
   ]
  },
  {
   "cell_type": "code",
   "execution_count": null,
   "id": "protecting-capture",
   "metadata": {},
   "outputs": [],
   "source": [
    "list10 = [4, 777, 11, 4]\n",
    "list11 = ['aa', 'bb']\n",
    "print('list10:                        ',list10)\n",
    "print('list11:                        ',list11)\n",
    "\n",
    "list10.append(list11) # 新增一個元素到 List的最後\n",
    "print('list10.append(list11) :        ',list10)\n",
    "list10.extend(list11) # 將 b 裡個元素加入 a 裡面，等同於 a + b\n",
    "print('list10.extend(list11) :        ',list10)\n",
    "list10.insert(2, 555) #指定位置插入元素\n",
    "print('list10.insert(2, 555) :        ',list10)\n",
    "\n",
    "y = list10.count(4) # 計算 List裡有幾個元素\n",
    "print('list10.count(4) :              ', y)\n",
    "\n",
    "x = list10.copy() # 數值雖然相同, 但記憶體位置不同\n",
    "print('list10.copy() ：               ',x)\n",
    "\n",
    "print('list10.index(777) :            ',list10.index(777)) # 索引，找到元素後輸出位置。只會找出第一個\n",
    "\n",
    "# pop會做兩件事情：\n",
    "# 1.將元素從 List裡刪除\n",
    "# 2.將刪除的元素回傳\n",
    "z = list10.pop()  #刪除指定位置，沒指定就是刪除最後一個元素\n",
    "print('list10.pop() :                 ',list10)  \n",
    "print('z:                             ', z)\n",
    "list10.remove(777)                                #刪除指定數值\n",
    "print('list10.remove(777) :           ',list10)\n",
    "\n",
    "list10.clear() #清空 List\n",
    "print('list10.clear() :               ',list10)"
   ]
  },
  {
   "cell_type": "code",
   "execution_count": null,
   "id": "concrete-ceremony",
   "metadata": {},
   "outputs": [],
   "source": [
    "list12 = ['saw', 'active', 'He', 'foxes', 'rich']\n",
    "list12.sort(key=len)  # 依照長度排序\n",
    "list12"
   ]
  },
  {
   "cell_type": "markdown",
   "id": "minute-roulette",
   "metadata": {},
   "source": [
    "  "
   ]
  },
  {
   "cell_type": "markdown",
   "id": "flexible-triple",
   "metadata": {},
   "source": [
    "  "
   ]
  },
  {
   "cell_type": "markdown",
   "id": "described-import",
   "metadata": {},
   "source": [
    "***"
   ]
  },
  {
   "cell_type": "markdown",
   "id": "sublime-element",
   "metadata": {},
   "source": [
    "  "
   ]
  },
  {
   "cell_type": "markdown",
   "id": "material-professional",
   "metadata": {},
   "source": [
    "  "
   ]
  },
  {
   "cell_type": "markdown",
   "id": "controversial-orientation",
   "metadata": {},
   "source": [
    "#  <font color=orange> 第八章、Tuple </font><font color=pink> - 有順序、不可變動 </font> \n",
    "## <font color=skyblue> 簡介 </font>\n",
    "- 允許多個重複的元素\n",
    "- 允許Tuple內的元素為不同型態\n",
    "- 使用()來表示，可以省略"
   ]
  },
  {
   "cell_type": "code",
   "execution_count": null,
   "id": "upper-bottom",
   "metadata": {},
   "outputs": [],
   "source": [
    "tup1 = ('bdse', 'aien', 2015, 2018)\n",
    "tup2 = (1, 2, 3, 4, 5 )\n",
    "tup3 = \"a\", \"b\", \"c\", \"d\"\n",
    "tup4 = () \n",
    "tup5 = (50,) #一定要有逗號\n",
    "print(tup1, tup2, tup3, tup4, tup5)"
   ]
  },
  {
   "cell_type": "code",
   "execution_count": null,
   "id": "cardiac-summer",
   "metadata": {},
   "outputs": [],
   "source": [
    "tup6 = tuple(range(0,10,2))\n",
    "tup7 = tuple([1,2,3,4])\n",
    "tup8 = tuple('abcde')\n",
    "\n",
    "print(tup6)\n",
    "print(tup7)\n",
    "print(tup8)"
   ]
  },
  {
   "cell_type": "code",
   "execution_count": null,
   "id": "parallel-vegetation",
   "metadata": {},
   "outputs": [],
   "source": [
    "('Hi',)*4"
   ]
  },
  {
   "cell_type": "code",
   "execution_count": null,
   "id": "photographic-resort",
   "metadata": {},
   "outputs": [],
   "source": [
    "30 in (10,20,30)"
   ]
  },
  {
   "cell_type": "code",
   "execution_count": null,
   "id": "western-wells",
   "metadata": {},
   "outputs": [],
   "source": [
    "tup9 = (1, 2, 3, 4)\n",
    "for i in tup9:\n",
    "    print(i)"
   ]
  },
  {
   "cell_type": "markdown",
   "id": "rolled-handling",
   "metadata": {},
   "source": [
    "## <font color=skyblue> 索引、切片 </font>"
   ]
  },
  {
   "cell_type": "code",
   "execution_count": null,
   "id": "secondary-arabic",
   "metadata": {},
   "outputs": [],
   "source": [
    "tup10 = (1, 2, 3, 4, 5, 6, 7, 8, 9, 10)\n",
    "print(tup10[0])\n",
    "print(tup10[1:5])\n",
    "print(tup10[1:10:2])"
   ]
  },
  {
   "cell_type": "markdown",
   "id": "prostate-parcel",
   "metadata": {},
   "source": [
    "## <font color=skyblue> 不可變動 </font>"
   ]
  },
  {
   "cell_type": "code",
   "execution_count": null,
   "id": "steady-treasurer",
   "metadata": {
    "scrolled": false
   },
   "outputs": [],
   "source": [
    "tup11=(0, 2, 4, 6, 8)\n",
    "tup11[1] = 5 "
   ]
  },
  {
   "cell_type": "markdown",
   "id": "rapid-resistance",
   "metadata": {},
   "source": [
    "## <font color=skyblue> 函數、方法 </font>"
   ]
  },
  {
   "cell_type": "code",
   "execution_count": null,
   "id": "younger-bottle",
   "metadata": {
    "scrolled": true
   },
   "outputs": [],
   "source": [
    "tup12 = (1, 2, 3, 4, 5, 6, 7, 8, 9, 10)\n",
    "print(len(tup12)) # 長度\n",
    "print(max(tup12)) # 最大值\n",
    "print(min(tup12)) # 最小值\n",
    "print(sum(tup12)) # 總和\n",
    "print(sorted(tup12)) #排序，排序完成後傳換成List\n",
    "print(sorted(tup12,reverse = True))\n",
    "print(type(sorted(tup12)))"
   ]
  },
  {
   "cell_type": "code",
   "execution_count": null,
   "id": "lasting-parade",
   "metadata": {},
   "outputs": [],
   "source": [
    "tup13 = (1, 2, 2, 2, 3, 4, 2)\n",
    "print(tup13.count(2)) # 計算\n",
    "print(tup13.index(2)) # 索引"
   ]
  },
  {
   "cell_type": "markdown",
   "id": "organized-petite",
   "metadata": {},
   "source": [
    "  "
   ]
  },
  {
   "cell_type": "markdown",
   "id": "champion-speed",
   "metadata": {},
   "source": [
    "  "
   ]
  },
  {
   "cell_type": "markdown",
   "id": "excess-plain",
   "metadata": {},
   "source": [
    "***"
   ]
  },
  {
   "cell_type": "markdown",
   "id": "qualified-macintosh",
   "metadata": {},
   "source": [
    "  "
   ]
  },
  {
   "cell_type": "markdown",
   "id": "departmental-experience",
   "metadata": {},
   "source": [
    "  "
   ]
  },
  {
   "cell_type": "markdown",
   "id": "blond-ontario",
   "metadata": {},
   "source": [
    "#  <font color=orange> 第九章、Set </font><font color=pink> - 無順序、可變動 </font> \n",
    "## <font color=skyblue> 簡介 </font>\n",
    "- 不允許重複的元素\n",
    "- 允許Set內的元素為不同型態，但不能放可變類型的資料\n",
    "- 使用{}來表示\n",
    "- 空集合用set()表示"
   ]
  },
  {
   "cell_type": "markdown",
   "id": "streaming-suspect",
   "metadata": {},
   "source": [
    "## <font color=skyblue> 無索引、切片 </font>"
   ]
  },
  {
   "cell_type": "code",
   "execution_count": null,
   "id": "academic-manitoba",
   "metadata": {},
   "outputs": [],
   "source": [
    "set1 = {2,1,4,3}\n",
    "set2 = {1,2,3,4}\n",
    "print(f'set1 == set2 : {set1 == set2}')\n",
    "print(f'set1 is set2 : {set1 is set2}')"
   ]
  },
  {
   "cell_type": "code",
   "execution_count": null,
   "id": "patent-maria",
   "metadata": {
    "scrolled": true
   },
   "outputs": [],
   "source": [
    "set3 = {1,2,3,4}\n",
    "set3[1] "
   ]
  },
  {
   "cell_type": "code",
   "execution_count": null,
   "id": "strong-chicago",
   "metadata": {},
   "outputs": [],
   "source": [
    "set4 = set('66316666')\n",
    "print(set4, len(set4)) #無序、不可重複"
   ]
  },
  {
   "cell_type": "markdown",
   "id": "living-theorem",
   "metadata": {},
   "source": [
    "## <font color=skyblue> 可變動 </font>"
   ]
  },
  {
   "cell_type": "code",
   "execution_count": null,
   "id": "funny-purchase",
   "metadata": {},
   "outputs": [],
   "source": [
    "set5 = {1,2,3}; set6 = {3,4,5}\n",
    "print(set5,id(set5))\n",
    "\n",
    "set5.update(set6);\n",
    "print(set5,id(set5))\n",
    "# 函數下面會提"
   ]
  },
  {
   "cell_type": "markdown",
   "id": "fewer-habitat",
   "metadata": {},
   "source": [
    "## <font color=skyblue> 函數、方法 </font>"
   ]
  },
  {
   "cell_type": "code",
   "execution_count": null,
   "id": "independent-breeding",
   "metadata": {
    "scrolled": true
   },
   "outputs": [],
   "source": [
    "set7 = {1,2,3,4,5}\n",
    "print(len(set7))\n",
    "print(max(set7))\n",
    "print(min(set7))\n",
    "print(sum(set7))\n",
    "print(sorted(set7)) #排序，排序完成後傳換成List\n",
    "print(sorted(set7,reverse=True))"
   ]
  },
  {
   "cell_type": "code",
   "execution_count": null,
   "id": "crude-corps",
   "metadata": {},
   "outputs": [],
   "source": [
    "set8 = {1,2,3}; set9 = {3,4}\n",
    "\n",
    "set8.update(set9);\n",
    "print(set8)\n",
    "\n",
    "set8.add(1) #若已經有的值則不會加入\n",
    "print(set8)\n",
    "set8.add(5)  \n",
    "print(set8)\n",
    "\n",
    "set8.remove(1) #若沒有此值則會出錯\n",
    "print(set8)\n",
    "\n",
    "set8.discard(4) # 如果 elem 存在於 s ，則將其移除。此方法不會觸發 KeyError 的例外\n",
    "print(set8)\n",
    "\n",
    "x = set8.pop() # 隨機挑選一個刪除並回傳\n",
    "print(set8,x)"
   ]
  },
  {
   "cell_type": "markdown",
   "id": "automated-probability",
   "metadata": {},
   "source": [
    "  "
   ]
  },
  {
   "cell_type": "markdown",
   "id": "amazing-channel",
   "metadata": {},
   "source": [
    "  "
   ]
  },
  {
   "cell_type": "markdown",
   "id": "instrumental-voluntary",
   "metadata": {},
   "source": [
    "***"
   ]
  },
  {
   "cell_type": "markdown",
   "id": "mediterranean-egyptian",
   "metadata": {},
   "source": [
    "  "
   ]
  },
  {
   "cell_type": "markdown",
   "id": "postal-poland",
   "metadata": {},
   "source": [
    "  "
   ]
  },
  {
   "cell_type": "markdown",
   "id": "faced-aviation",
   "metadata": {},
   "source": [
    "#  <font color=orange> 第十章、Dictionary </font><font color=pink> - 無順序、可變動 </font> \n",
    "## <font color=skyblue> 簡介 </font>\n",
    "- 不允許重複的元素\n",
    "- 使用{key:value}來表示。用[key]值去尋找value，沒有Key值的話會引發錯誤。\n",
    "- key為不可變的資料型態，建議用字串；value可以是任何資料型態\n",
    "- keys 必須唯㇐，重複的話只能取出一個；但 values 可以相同"
   ]
  },
  {
   "cell_type": "code",
   "execution_count": null,
   "id": "referenced-tuition",
   "metadata": {
    "scrolled": true
   },
   "outputs": [],
   "source": [
    "dict1 = {'A':\"a\", 'B':[1,2,3], 'C':(1,2,3), 'D':{'AA':'aa', 'BB':'bb'}}\n",
    "dict2 = {1:\"a\", 2:'b'}\n",
    "dict3 = {(0,1):'a', (0,2):'b'}\n",
    "print('dict1 :', dict1)\n",
    "print('dict2 :', dict2)\n",
    "print('dict3 :', dict3)\n",
    "\n",
    "print(dict1['A']) \n",
    "print(dict1['E']) # 尋找沒有定義的Key會出錯"
   ]
  },
  {
   "cell_type": "code",
   "execution_count": null,
   "id": "junior-atlantic",
   "metadata": {},
   "outputs": [],
   "source": [
    "dict4 = {'A':'a', 'B':'b', 'A':1}\n",
    "print(\"dict4['A'] : \", dict4['A']) "
   ]
  },
  {
   "cell_type": "markdown",
   "id": "cordless-ivory",
   "metadata": {},
   "source": [
    "## <font color=skyblue> 無索引、切片 </font>"
   ]
  },
  {
   "cell_type": "code",
   "execution_count": null,
   "id": "portuguese-float",
   "metadata": {},
   "outputs": [],
   "source": [
    "dict5 = {'name':'John', 'age':30}\n",
    "dict6 = {'age':30, 'name':'John'}\n",
    "\n",
    "print(dict5 == dict6) \n",
    "print(dict5 is dict6)"
   ]
  },
  {
   "cell_type": "code",
   "execution_count": null,
   "id": "understanding-quebec",
   "metadata": {},
   "outputs": [],
   "source": [
    "dict7={'A':1, 'B':2, 'C':3, 'D':4, 'E':5}\n",
    "dict7[:3]"
   ]
  },
  {
   "cell_type": "markdown",
   "id": "systematic-analysis",
   "metadata": {},
   "source": [
    "## <font color=skyblue> 可變動 </font>"
   ]
  },
  {
   "cell_type": "code",
   "execution_count": null,
   "id": "functional-genesis",
   "metadata": {},
   "outputs": [],
   "source": [
    "dict8 = {'one':1, 'two':2, \"three\":3}\n",
    "print(\"dict8 :            \", dict8)   \n",
    "\n",
    "dict8['two'] = 7 # 修改\n",
    "print(\"dict8['two'] = 7 : \", dict8)    \n",
    "\n",
    "dict8['four']=7 # 沒有的話則新增 \n",
    "print(\"dict8['four'] = 7 :\", dict8) "
   ]
  },
  {
   "cell_type": "markdown",
   "id": "aerial-duncan",
   "metadata": {},
   "source": [
    "## <font color=skyblue> 函數、方法 </font>"
   ]
  },
  {
   "cell_type": "code",
   "execution_count": null,
   "id": "obvious-portland",
   "metadata": {},
   "outputs": [],
   "source": [
    "dict9 = {'A':1,'B':2, 'C':3, 'E':5}\n",
    "dict10 = {'F':6}\n",
    "print('dict9 :                        ', dict9)\n",
    "print('dict10 :                       ', dict10)\n",
    "print()\n",
    "\n",
    "dict11 = dict9.copy() # 值相同，ID不相同\n",
    "print('dict11 = dict9.copy() :        ', dict11)\n",
    "print('dict9 is dict11 :              ', dict9 is dict11)\n",
    "print('dict9 == dict11 :              ', dict9 == dict11)\n",
    "print()\n",
    "\n",
    "# 取得指定值\n",
    "print('dict9.get(\\'D\\', \\'No item\\')：    ',dict9.get('D', 'No item')) # 若不存在回傳預設值None\n",
    "print('dict9.setdefault(\\'D\\', 4)：     ',dict9.setdefault('D', 4)) # 若不存在則新增字典\n",
    "print('dict9 :                        ', dict9)\n",
    "\n",
    "print()\n",
    "print((dict9.items())) # 取得所有配對\n",
    "print(dict9.keys()) # 取得所有keys\n",
    "print(dict9.values()) # 取得所有values\n",
    "print()\n",
    "\n",
    "dict9.update(dict10)\n",
    "print('dict9.update(dict10)：         ', dict9) # 新增\n",
    "print()\n",
    "\n",
    "del dict9['E'] # 刪除指定元素\n",
    "print(\"del dict9['E'] :               \", dict9)\n",
    "print(dict9.pop('B')) #刪除並回傳\n",
    "print('pop(\"B\") :                     ', dict9)\n",
    "dict9.clear()   # 清空字典\n",
    "print('dict9.clear() :                ', dict9)"
   ]
  },
  {
   "cell_type": "markdown",
   "id": "through-telescope",
   "metadata": {},
   "source": [
    "  "
   ]
  },
  {
   "cell_type": "markdown",
   "id": "recorded-starter",
   "metadata": {},
   "source": [
    "  "
   ]
  },
  {
   "cell_type": "markdown",
   "id": "comprehensive-pakistan",
   "metadata": {},
   "source": [
    "***"
   ]
  },
  {
   "cell_type": "markdown",
   "id": "careful-orientation",
   "metadata": {},
   "source": [
    "  "
   ]
  },
  {
   "cell_type": "markdown",
   "id": "developmental-example",
   "metadata": {},
   "source": [
    "  "
   ]
  },
  {
   "cell_type": "markdown",
   "id": "legal-principal",
   "metadata": {},
   "source": [
    "#  <font color=orange> 第十一章、 </font>\n",
    "## <font color=skyblue>  </font>\n",
    "## <font color=skyblue>  </font>\n",
    "## <font color=skyblue>  </font>"
   ]
  },
  {
   "cell_type": "markdown",
   "id": "unknown-glossary",
   "metadata": {},
   "source": [
    "#  <font color=orange> 第十二章、 </font>\n",
    "## <font color=skyblue>  </font>\n",
    "## <font color=skyblue>  </font>\n",
    "## <font color=skyblue>  </font>"
   ]
  }
 ],
 "metadata": {
  "kernelspec": {
   "display_name": "Python 3",
   "language": "python",
   "name": "python3"
  },
  "language_info": {
   "codemirror_mode": {
    "name": "ipython",
    "version": 3
   },
   "file_extension": ".py",
   "mimetype": "text/x-python",
   "name": "python",
   "nbconvert_exporter": "python",
   "pygments_lexer": "ipython3",
   "version": "3.8.7"
  }
 },
 "nbformat": 4,
 "nbformat_minor": 5
}
