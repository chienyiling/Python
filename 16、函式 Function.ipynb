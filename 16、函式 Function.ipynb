{
 "cells": [
  {
   "cell_type": "code",
   "execution_count": 1,
   "id": "elect-drunk",
   "metadata": {},
   "outputs": [
    {
     "name": "stdout",
     "output_type": "stream",
     "text": [
      "quack\n",
      "------------------------------\n",
      "quack\n",
      "quack\n"
     ]
    }
   ],
   "source": [
    "# 創建函數\n",
    "def make_a_sound():\n",
    "    print('quack') \n",
    "\n",
    "# 呼叫函數    \n",
    "make_a_sound() \n",
    "print('-'*30)\n",
    "for i in range(2):\n",
    "    make_a_sound()"
   ]
  },
  {
   "cell_type": "code",
   "execution_count": null,
   "id": "protecting-sheep",
   "metadata": {},
   "outputs": [],
   "source": [
    "def my_function(x, y):\n",
    "    print(f'x : {x}')\n",
    "    print(f'y : {y}')\n",
    "\n",
    "my_function(5, 6) # 位置引數\n",
    "my_function(y = 6, x = 5) # 關鍵字引數"
   ]
  },
  {
   "cell_type": "code",
   "execution_count": null,
   "id": "narrative-garden",
   "metadata": {},
   "outputs": [],
   "source": [
    "def printinfo(name, age=35):\n",
    "    print('Name:', name)\n",
    "    print('Age', age)\n",
    "\n",
    "printinfo(age=50, name='Calvin')   # age is 50\n",
    "printinfo(name='Calvin') "
   ]
  },
  {
   "cell_type": "code",
   "execution_count": 6,
   "id": "pleased-portuguese",
   "metadata": {},
   "outputs": [
    {
     "name": "stdout",
     "output_type": "stream",
     "text": [
      "姓名： Nick, 年齡： 18 , 工作經驗： ('CompanyA', 'CompanyB', 'CompanyC')\n"
     ]
    }
   ],
   "source": [
    "def person(name,age,*experience):\n",
    "    print(f'姓名： {name}, 年齡： {age} , 工作經驗： {experience}')\n",
    "\n",
    "person('Nick', 18, 'CompanyA', 'CompanyB', 'CompanyC')"
   ]
  },
  {
   "cell_type": "code",
   "execution_count": 7,
   "id": "southeast-jonathan",
   "metadata": {},
   "outputs": [
    {
     "name": "stdout",
     "output_type": "stream",
     "text": [
      "姓名： Nick, 年齡： 18 , 工作經驗： {'A': 'CompanyA', 'B': 'CompanyB', 'C': 'CompanyC'}\n"
     ]
    }
   ],
   "source": [
    "def person(name,age,**experience):\n",
    "    print(f'姓名： {name}, 年齡： {age} , 工作經驗： {experience}')\n",
    "\n",
    "person('Nick', 18, A='CompanyA', B='CompanyB', C='CompanyC')"
   ]
  },
  {
   "cell_type": "code",
   "execution_count": 8,
   "id": "technological-knock",
   "metadata": {},
   "outputs": [
    {
     "name": "stdout",
     "output_type": "stream",
     "text": [
      "6 5 (4, 3, 2, 1) 10 3\n",
      "6 5 (4, 3, 2, 1) 10 8\n"
     ]
    }
   ],
   "source": [
    "def func(a,b=2,*c,d,e=3):\n",
    "    print(a,b,c,d,e)\n",
    "\n",
    "func(6,5,4,3,2,1,d=10)\n",
    "func(6,5,4,3,2,1,d=10,e=8)\n",
    "# func(6,5,4,3,2,1,e=8,b=9,d=10)\n",
    "# func(1,b=9,2,3,4,5,6,d=10)\n",
    "# func(8,7,6,5,4,8)"
   ]
  },
  {
   "cell_type": "code",
   "execution_count": null,
   "id": "trying-vietnam",
   "metadata": {},
   "outputs": [],
   "source": [
    "def func1():\n",
    "    \"\"\"print python world\"\"\"\n",
    "    print('python world')"
   ]
  },
  {
   "cell_type": "code",
   "execution_count": null,
   "id": "lovely-sponsorship",
   "metadata": {},
   "outputs": [],
   "source": [
    "help(func1)"
   ]
  },
  {
   "cell_type": "code",
   "execution_count": 12,
   "id": "freelance-cattle",
   "metadata": {},
   "outputs": [
    {
     "name": "stdout",
     "output_type": "stream",
     "text": [
      "sum of 35+20 : None\n",
      "sum of 40+50 : 90\n"
     ]
    }
   ],
   "source": [
    "def printme(n1, n2):\n",
    "    A = n1+n2\n",
    "\n",
    "def sum_nums(n1, n2):\n",
    "    return n1+n2\n",
    "    \n",
    "total = printme(35,20)\n",
    "print('sum of 35+20 :',total) # 沒有return\n",
    "print('sum of 40+50 :',sum_nums(40,50)) # 有return"
   ]
  },
  {
   "cell_type": "markdown",
   "id": "former-blink",
   "metadata": {},
   "source": [
    "# 全域變數、區域變數"
   ]
  },
  {
   "cell_type": "code",
   "execution_count": null,
   "id": "therapeutic-literacy",
   "metadata": {},
   "outputs": [],
   "source": [
    "a = 'A' \n",
    "def func1():\n",
    "    print(a)\n",
    "    b=2\n",
    "\n",
    "func1()\n",
    "print(b)"
   ]
  },
  {
   "cell_type": "code",
   "execution_count": 13,
   "id": "eligible-albania",
   "metadata": {},
   "outputs": [
    {
     "name": "stdout",
     "output_type": "stream",
     "text": [
      "In function local total : 30\n",
      "\n",
      "In function local total : 30\n",
      "None\n",
      "\n",
      "Outside function global total : 0\n"
     ]
    }
   ],
   "source": [
    "def sum_data(arg1, arg2):\n",
    "    total  = arg1 + arg2; # total is local variable\n",
    "    print('In function local total :', total)\n",
    "    \n",
    "total = 0 \n",
    "\n",
    "sum_data(10, 20)\n",
    "print()\n",
    "\n",
    "print(sum_data(10, 20))\n",
    "print()\n",
    "\n",
    "print('Outside function global total :', total)"
   ]
  },
  {
   "cell_type": "code",
   "execution_count": null,
   "id": "younger-jamaica",
   "metadata": {},
   "outputs": [],
   "source": [
    "def func3():\n",
    "    global c \n",
    "    c = 'Hi!!'\n",
    "    print(c)\n",
    "\n",
    "func3()\n",
    "print('outside function:',c)"
   ]
  },
  {
   "cell_type": "code",
   "execution_count": null,
   "id": "israeli-scottish",
   "metadata": {},
   "outputs": [],
   "source": [
    "def spam():\n",
    "    global eggs\n",
    "    eggs = 'spam'    # this is the global\n",
    "    \n",
    "def bacon():\n",
    "    eggs = 'bacon'   # this is a local\n",
    "    \n",
    "def ham():\n",
    "    print(eggs)  # this is the global\n",
    "\n",
    "# MAIN\n",
    "eggs = 42        # this is the global\n",
    "\n",
    "ham()\n",
    "\n",
    "bacon()\n",
    "print(eggs)      # 42\n",
    "\n",
    "spam()\n",
    "print(eggs)      # spam\n",
    "\n",
    "ham()            # spam"
   ]
  },
  {
   "cell_type": "code",
   "execution_count": null,
   "id": "undefined-bacon",
   "metadata": {},
   "outputs": [],
   "source": [
    "def changeme(mylist):\n",
    "    print('In function, before change:', mylist)\n",
    "    mylist[1] = 50\n",
    "    print('In function, after change:', mylist)\n",
    "\n",
    "# Call function\n",
    "mylist = [10,20,30] # 資料型態可變則會被改變\n",
    "changeme(mylist)\n",
    "print('Outside function:',mylist)"
   ]
  },
  {
   "cell_type": "markdown",
   "id": "intimate-chick",
   "metadata": {},
   "source": [
    "# Lambda"
   ]
  },
  {
   "cell_type": "code",
   "execution_count": 15,
   "id": "continued-standing",
   "metadata": {},
   "outputs": [
    {
     "name": "stdout",
     "output_type": "stream",
     "text": [
      "11\n"
     ]
    }
   ],
   "source": [
    "def func(arg1,arg2):\n",
    "    return arg1+arg2\n",
    "\n",
    "a = func(10, 20)\n",
    "print(a)"
   ]
  },
  {
   "cell_type": "code",
   "execution_count": 16,
   "id": "muslim-criminal",
   "metadata": {},
   "outputs": [
    {
     "name": "stdout",
     "output_type": "stream",
     "text": [
      "30\n"
     ]
    }
   ],
   "source": [
    "sum_data = lambda arg1, arg2 : arg1+arg2  \n",
    "print(sum_data(10, 20))"
   ]
  },
  {
   "cell_type": "markdown",
   "id": "instant-climb",
   "metadata": {},
   "source": [
    "# 遞迴"
   ]
  },
  {
   "cell_type": "code",
   "execution_count": 1,
   "id": "mobile-environment",
   "metadata": {},
   "outputs": [
    {
     "name": "stdout",
     "output_type": "stream",
     "text": [
      "Factorial of 6 = 720\n"
     ]
    }
   ],
   "source": [
    "def fact(n):\n",
    "    \"\"\"Recursive function to find factorial\"\"\"\n",
    "    if n == 1:\n",
    "        return 1\n",
    "    else:\n",
    "        return (n * fact(n - 1))\n",
    "    \n",
    "print(\"Factorial of\", 1, \"=\", fact(1))\n",
    "print(\"Factorial of\", 2, \"=\", fact(2))\n",
    "print(\"Factorial of\", 3, \"=\", fact(3))\n",
    "print(\"Factorial of\", 4, \"=\", fact(4))"
   ]
  },
  {
   "cell_type": "code",
   "execution_count": 6,
   "id": "tutorial-script",
   "metadata": {},
   "outputs": [
    {
     "name": "stdout",
     "output_type": "stream",
     "text": [
      "8\n"
     ]
    }
   ],
   "source": [
    "def F(n):\n",
    "    if n == 0 or n == 1:\n",
    "        return n\n",
    "    else:\n",
    "        return F(n-1)+F(n-2)\n",
    "    \n",
    "print(F(6))"
   ]
  },
  {
   "cell_type": "code",
   "execution_count": null,
   "id": "centered-colorado",
   "metadata": {},
   "outputs": [],
   "source": []
  }
 ],
 "metadata": {
  "kernelspec": {
   "display_name": "Python 3",
   "language": "python",
   "name": "python3"
  },
  "language_info": {
   "codemirror_mode": {
    "name": "ipython",
    "version": 3
   },
   "file_extension": ".py",
   "mimetype": "text/x-python",
   "name": "python",
   "nbconvert_exporter": "python",
   "pygments_lexer": "ipython3",
   "version": "3.8.7"
  }
 },
 "nbformat": 4,
 "nbformat_minor": 5
}
