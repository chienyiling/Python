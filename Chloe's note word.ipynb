{
 "cells": [
  {
   "cell_type": "code",
   "execution_count": 15,
   "id": "severe-leader",
   "metadata": {},
   "outputs": [
    {
     "name": "stdout",
     "output_type": "stream",
     "text": [
      "False\n"
     ]
    }
   ],
   "source": [
    "print(False == \"\")"
   ]
  },
  {
   "cell_type": "markdown",
   "id": "psychological-ceramic",
   "metadata": {},
   "source": [
    "# <font color=navy> 字串：有序、不可變 </font>\n",
    "- ### 函數\n",
    "- 長度：len()\n",
    "- ### 方法\n",
    "- 轉換為大寫：.upper()\n",
    "- 轉換成小寫：.lower()\n",
    "- 是否為字母：.isalpha()\n",
    "- 是否為空白：.isspace()\n",
    "- 是否為大寫：.isupper()\n",
    "- 是否為小寫：.islower()\n",
    "- 是否為數字：.isdigit()\n",
    "- 是否為字母加數字：.isalnum()\n",
    "- 切割：.split(切割依據,切幾刀)，切割依據預設為空白\n",
    "<br> <font color=white> 切割：</font>.rsplit()，從後面開始切\n",
    "- 改寫：.replace(變更前,變更後)\n",
    "- 去除：.strip(欲去除項目)，只能從最外側兩邊開始去除\n",
    "<br> <font color=white> 去除：</font>.rstrip，去除右邊\n",
    "<br> <font color=white> 去除：</font>.lstrip，去除左邊"
   ]
  },
  {
   "cell_type": "markdown",
   "id": "decreased-hello",
   "metadata": {},
   "source": [
    "# <font color=navy> List：有序、可變 </font>\n",
    "- ### 函數\n",
    "- 長度：len()\n",
    "- 取最大：max()\n",
    "- 取最小：min()\n",
    "- 做總和：sum()\n",
    "- 由小排到大：sorted()\n",
    "- 由大排到小：sorted(,reverse=True)\n",
    "- ### 方法\n",
    "- 新增：.append(b)，將b整個當作一個Lise裝進去\n",
    "<br> <font color=white> 新增：</font>.extend(b)，將 b 裡個元素加入 a 裡面，等同於 a + b\n",
    "<br> <font color=white> 新增：</font>.insert(位置,插入數值)，指定位置插入元素\n",
    "- 計算指定元素個數：.count()\n",
    "- 複製：.copy()，數值雖然相同，但記憶體位置不同\n",
    "- 索引：.index()，找到元素後輸出位置。只會找出第一個，若沒有則會出錯。\n",
    "- 刪除：.pop()，刪除指定位置，並將刪除元素回傳，沒指定就是刪除最後一個元素\n",
    "<br> <font color=white> 刪除：</font>.remove()，指定刪除元素\n",
    "- 倒序：.reverse()，將List順序反轉\n",
    "- 排序：.sort(key=len)，依照字的長度排序，<font color=red> 只能是文字 </font>\n",
    "- 清空List：.clear()"
   ]
  },
  {
   "cell_type": "markdown",
   "id": "continuing-maine",
   "metadata": {},
   "source": [
    "."
   ]
  },
  {
   "cell_type": "markdown",
   "id": "conventional-sperm",
   "metadata": {},
   "source": [
    "."
   ]
  },
  {
   "cell_type": "markdown",
   "id": "apparent-physiology",
   "metadata": {},
   "source": [
    "."
   ]
  },
  {
   "cell_type": "markdown",
   "id": "worldwide-spray",
   "metadata": {},
   "source": [
    "# <font color=navy> Tupel：有序、不可變 </font>\n",
    "- ### 函數\n",
    "- 長度：len()\n",
    "- 取最大：max()\n",
    "- 取最小：min()\n",
    "- 做總和：sum()\n",
    "- 由小排到大：sorted()\n",
    "- 由大排到小：sorted(,reverse=True)\n",
    "- ### 方法\n",
    "- 計算指定元素個數：.count()\n",
    "- 索引：.index()，找到元素後輸出位置。只會找出第一個，若沒有則會出錯。"
   ]
  },
  {
   "cell_type": "markdown",
   "id": "hazardous-reliance",
   "metadata": {},
   "source": [
    "# <font color=navy> Set：無序、可變 </font>\n",
    "- ### 函數\n",
    "- 長度：len()\n",
    "- 取最大：max()\n",
    "- 取最小：min()\n",
    "- 做總和：sum()\n",
    "- 由小排到大：sorted()\n",
    "- 由大排到小：sorted(,reverse=True)\n",
    "- ### 方法\n",
    "- 新增：.update()，將一個set加到另一個set\n",
    "<br> <font color=white> 新增：</font>.add()，指定新增元素，若已經有的值則不會加入\n",
    "- 移除：remove()，若沒有此值則會出錯\n",
    "<br> <font color=white> 移除：</font>.discard()，若沒有此值則不會出錯\n",
    "<br> <font color=white> 移除：</font>.pop()，隨機挑選一個刪除並回傳\n",
    "- ### 符號\n",
    "- 無交集：.isdisjoint()\n",
    "- 聯集：｜ ，.union()\n",
    "- 交集：＆ ，.intersection()\n",
    "- 差集：- ，.difference()\n",
    "- 對稱差集：^ ，.symmetric_difference()\n",
    "- 包含：> or < ，.issuperset() or .issubset()"
   ]
  },
  {
   "cell_type": "markdown",
   "id": "asian-northwest",
   "metadata": {},
   "source": [
    "."
   ]
  },
  {
   "cell_type": "markdown",
   "id": "documentary-recovery",
   "metadata": {},
   "source": [
    "."
   ]
  },
  {
   "cell_type": "markdown",
   "id": "violent-cooling",
   "metadata": {},
   "source": [
    "."
   ]
  },
  {
   "cell_type": "markdown",
   "id": "sufficient-moderator",
   "metadata": {},
   "source": [
    "."
   ]
  },
  {
   "cell_type": "markdown",
   "id": "imposed-symposium",
   "metadata": {},
   "source": [
    "."
   ]
  },
  {
   "cell_type": "markdown",
   "id": "sharing-championship",
   "metadata": {},
   "source": [
    "# <font color=navy> Dictionary：無序、可變 </font>\n",
    "- ### 函數\n",
    "- 長度：len()\n",
    "- 取最大：max()\n",
    "- 取最小：min()\n",
    "- 由小排到大：sorted()\n",
    "- ### 方法\n",
    "- 新增：.update()，將一個字典加到另一個s字典\n",
    "- 複製：.copy()，值相同，ID不相同\n",
    "- 取得值：.get(欲取,回傳值)，取得指定值，若不存在回傳預設值None\n",
    "<br> <font color=white> 取得值：</font>.setdefault(欲取,回傳值)，取得指定值，若不存在則回傳設定值(Value)\n",
    "<br> <font color=white> 取得值：</font>.items()，取得所有配對\n",
    "<br> <font color=white> 取得值：</font>.keys()，取得所有keys\n",
    "<br> <font color=white> 取得值：</font>.values()，取得所有values\n",
    "- 刪除：del <字典> ，刪除指定元素\n",
    "<br> <font color=white> 刪除：</font>.pop()，刪除指定元素並回傳\n",
    "<br> <font color=white> 刪除：</font>.clear()，清空字典"
   ]
  }
 ],
 "metadata": {
  "kernelspec": {
   "display_name": "Python 3",
   "language": "python",
   "name": "python3"
  },
  "language_info": {
   "codemirror_mode": {
    "name": "ipython",
    "version": 3
   },
   "file_extension": ".py",
   "mimetype": "text/x-python",
   "name": "python",
   "nbconvert_exporter": "python",
   "pygments_lexer": "ipython3",
   "version": "3.8.7"
  }
 },
 "nbformat": 4,
 "nbformat_minor": 5
}
