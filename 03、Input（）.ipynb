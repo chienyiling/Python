{
 "cells": [
  {
   "cell_type": "code",
   "execution_count": null,
   "id": "stock-thailand",
   "metadata": {
    "scrolled": false
   },
   "outputs": [],
   "source": [
    "input1 = input('input1 = ')"
   ]
  },
  {
   "cell_type": "code",
   "execution_count": null,
   "id": "convertible-freeware",
   "metadata": {},
   "outputs": [],
   "source": [
    "input2 = input() # 會直接顯示一個結果\n",
    "print('input2 ：',input2) # 再列印一個結果"
   ]
  },
  {
   "cell_type": "code",
   "execution_count": null,
   "id": "revolutionary-entrepreneur",
   "metadata": {},
   "outputs": [],
   "source": [
    "input3 = input('input3：')\n",
    "print('type(input3) =',type(input3))"
   ]
  },
  {
   "cell_type": "code",
   "execution_count": null,
   "id": "technological-stone",
   "metadata": {},
   "outputs": [],
   "source": []
  }
 ],
 "metadata": {
  "kernelspec": {
   "display_name": "Python 3",
   "language": "python",
   "name": "python3"
  },
  "language_info": {
   "codemirror_mode": {
    "name": "ipython",
    "version": 3
   },
   "file_extension": ".py",
   "mimetype": "text/x-python",
   "name": "python",
   "nbconvert_exporter": "python",
   "pygments_lexer": "ipython3",
   "version": "3.8.7"
  }
 },
 "nbformat": 4,
 "nbformat_minor": 5
}
