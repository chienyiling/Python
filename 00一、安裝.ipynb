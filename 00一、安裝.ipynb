{
 "cells": [
  {
   "cell_type": "markdown",
   "id": "wound-blues",
   "metadata": {},
   "source": [
    "## <font color=skyblue> 安裝項目 </font>\n",
    ">### 1. Python 3.8.7（64bit）\n",
    ">- 把「Add Python 3.x to PATH」的選取方塊打勾，這樣的目的是為了讓Windows可以找到最純的Python。\n",
    ">- 接著點擊「Customize installation」。\n",
    ">- 在Optional Features頁面內，把所有核取方塊打勾後點選下一步。\n",
    ">- 接著把「install for all users」的核取方塊打勾，其他的核取方塊則維持預設值，然後點選安裝。\n",
    ">- 安裝後，要記得點擊「Disable path length limit」(如果沒有出現此按鈕代表之前已經有設定過了)。\n",
    ">-<details>\n",
    "  <summary>image</summary>\n",
    "  <img src='./img/python_install.png' style='height:500px'>\n",
    "</details>\n",
    "\n",
    ">### 2. VSCode\n",
    "><br>※功用：檢查函數值在運作時的改變。\n",
    "># <font color=red>待補充</font>\n",
    "\n",
    ">### 3. Jupyter notebook\n",
    ">>#### 下載程序\n",
    ">>- 以<font color=red>系統管理員身分</font>的身分在命令提示字元中輸入指令：pip install jupyter notebook。\n",
    ">>- 使用exit離開系統管理員身分的命令提示字元。\n",
    ">>- 在要使用的目錄下輸入cmd，以<font color=red>一般使用者</font>的身分開啟命令提示字元。\n",
    ">>- 在命令提示字元中輸入指令 jupyter notebook ，即可以使用。\n",
    "\n",
    ">>#### 簡單說明\n",
    ">>- 是一個互動式筆記本，本質是一個Web 應用程式，主頁面由許多Cell組成。\n",
    ">>- Cell常用的有兩種：<br>1. Code Cell → 撰寫程式所使用。<br>2. Markdown Cell → 作筆記使用。\n",
    ">>- 常用快捷鍵：<br>1. Shift + Enter：執行程序。<br>2. A or B：新增Cell。<br>3. DD：刪除Cell。\n",
    "\n"
   ]
  }
 ],
 "metadata": {
  "kernelspec": {
   "display_name": "Python 3",
   "language": "python",
   "name": "python3"
  },
  "language_info": {
   "codemirror_mode": {
    "name": "ipython",
    "version": 3
   },
   "file_extension": ".py",
   "mimetype": "text/x-python",
   "name": "python",
   "nbconvert_exporter": "python",
   "pygments_lexer": "ipython3",
   "version": "3.8.7"
  }
 },
 "nbformat": 4,
 "nbformat_minor": 5
}
