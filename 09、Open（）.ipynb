{
 "cells": [
  {
   "cell_type": "code",
   "execution_count": 21,
   "id": "fantastic-biotechnology",
   "metadata": {},
   "outputs": [
    {
     "name": "stdout",
     "output_type": "stream",
     "text": [
      "Write two data to note.txt!\n"
     ]
    }
   ],
   "source": [
    "fp = open('./09/note.txt', 'w')\n",
    "fp.write('text W1\\n')\n",
    "print('Write two data to note.txt!')\n",
    "fp.close()"
   ]
  },
  {
   "cell_type": "code",
   "execution_count": 22,
   "id": "signal-boost",
   "metadata": {},
   "outputs": [
    {
     "name": "stdout",
     "output_type": "stream",
     "text": [
      "Append one data to note.txt!\n"
     ]
    }
   ],
   "source": [
    "fp = open('./09/note.txt', 'a')\n",
    "fp.write('text A1\\n')\n",
    "print('Append one data to note.txt!')\n",
    "fp.close()"
   ]
  },
  {
   "cell_type": "code",
   "execution_count": 24,
   "id": "greenhouse-clarity",
   "metadata": {},
   "outputs": [
    {
     "name": "stdout",
     "output_type": "stream",
     "text": [
      "text W1\n",
      "text A1\n",
      "text r+\n",
      "\n"
     ]
    }
   ],
   "source": [
    "fp = open('./09/note.txt', 'r')   \n",
    "print(fp.read()) # 不可以使用 Write\n",
    "fp.close()"
   ]
  },
  {
   "cell_type": "code",
   "execution_count": 23,
   "id": "arranged-climate",
   "metadata": {},
   "outputs": [
    {
     "name": "stdout",
     "output_type": "stream",
     "text": [
      "text W1\n",
      "text A1\n",
      "\n"
     ]
    }
   ],
   "source": [
    "fp = open('./09/note.txt', 'r+') #r+ 能夠讀取加上寫入\n",
    "print(fp.read())\n",
    "fp.write('text R+\\n')\n",
    "fp.close()"
   ]
  },
  {
   "cell_type": "code",
   "execution_count": 25,
   "id": "headed-friend",
   "metadata": {},
   "outputs": [
    {
     "name": "stdout",
     "output_type": "stream",
     "text": [
      "['text W1\\n', 'text A1\\n', 'text r+\\n']\n"
     ]
    }
   ],
   "source": [
    "fp = open('./09/note.txt', 'r') \n",
    "line=fp.readlines() \n",
    "print(line)\n",
    "fp.close()"
   ]
  },
  {
   "cell_type": "code",
   "execution_count": 27,
   "id": "latin-travel",
   "metadata": {},
   "outputs": [
    {
     "name": "stdout",
     "output_type": "stream",
     "text": [
      "text W1\n",
      "\n"
     ]
    }
   ],
   "source": [
    "fp = open('./09/note.txt', 'r') \n",
    "line=fp.readline() # 一次只能讀第一個\n",
    "print(line)\n",
    "fp.close()"
   ]
  },
  {
   "cell_type": "code",
   "execution_count": 30,
   "id": "hazardous-rebecca",
   "metadata": {},
   "outputs": [
    {
     "name": "stdout",
     "output_type": "stream",
     "text": [
      "No.1 line: text W1\n",
      "No.2 line: text A1\n",
      "No.3 line: text r+\n"
     ]
    }
   ],
   "source": [
    "fp = open('./09/note.txt', 'r')   \n",
    "i=1\n",
    "while True: \n",
    "    line=fp.readline() \n",
    "    if not line:\n",
    "        break\n",
    "    print(f'No.{i} line:',line, end='') \n",
    "    i+=1\n",
    "fp.close()"
   ]
  },
  {
   "cell_type": "code",
   "execution_count": 31,
   "id": "seven-marina",
   "metadata": {},
   "outputs": [
    {
     "name": "stdout",
     "output_type": "stream",
     "text": [
      "Content(readline):\n",
      "No.1 line:  text W1\n",
      "No.2 line:  text A1\n",
      "No.3 line:  text r+\n"
     ]
    }
   ],
   "source": [
    "with open('./09/note.txt', 'r') as fp:  # 自動關掉讀取檔案\n",
    "    i=1\n",
    "    while True: \n",
    "        line=fp.readline() \n",
    "        if not line:\n",
    "            break\n",
    "        print(f'No.{i} line: ',line, end='') \n",
    "        i+=1"
   ]
  },
  {
   "cell_type": "code",
   "execution_count": null,
   "id": "boring-apartment",
   "metadata": {},
   "outputs": [],
   "source": []
  }
 ],
 "metadata": {
  "kernelspec": {
   "display_name": "Python 3",
   "language": "python",
   "name": "python3"
  },
  "language_info": {
   "codemirror_mode": {
    "name": "ipython",
    "version": 3
   },
   "file_extension": ".py",
   "mimetype": "text/x-python",
   "name": "python",
   "nbconvert_exporter": "python",
   "pygments_lexer": "ipython3",
   "version": "3.8.7"
  }
 },
 "nbformat": 4,
 "nbformat_minor": 5
}
