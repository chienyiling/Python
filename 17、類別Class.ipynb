{
 "cells": [
  {
   "cell_type": "code",
   "execution_count": null,
   "id": "intended-joining",
   "metadata": {},
   "outputs": [],
   "source": [
    "class Banks():\n",
    "    bankname = 'Taipei Bank'                # 定義屬性\n",
    "    def __init__(self, uname, money=0):      # 初始化方法\n",
    "        self.name = uname                   # 設定存款者名字\n",
    "        self.balance = money                # 設定所存的錢\n",
    "\n",
    "    def save_money(self, money):            # 設計存款方法\n",
    "        self.balance += money               # 執行存款\n",
    "        print(self.name, \"存款\", money, \"完成。目前餘額:\", self.balance)      # 列印存款完成\n",
    "\n",
    "    def withdraw_money(self, money):        # 設計提款方法\n",
    "        self.balance -= money               # 執行提款\n",
    "        print(self.name, \"提款\", money, \"完成。目前餘額:\", self.balance)      # 列印提款完成\n",
    "\n",
    "    def get_balance(self):                  # 獲得存款餘額\n",
    "        print(self.name, \" 目前餘額: \", self.balance)\n",
    "\n",
    "isaacbank = Banks('isaac', 100)               # 定義物件isaacbank\n",
    "lydiabank = Banks('lydia', 300)               # 定義物件lydiabank\n",
    "isaacbank.get_balance()                      # 獲得isaac存款餘額                \n",
    "lydiabank.get_balance()                      # 獲得lydia存款餘額\n",
    "isaacbank.save_money(250)                    # isaac存款250\n",
    "lydiabank.withdraw_money(150)                # lydia提款150"
   ]
  },
  {
   "cell_type": "markdown",
   "id": "adult-distributor",
   "metadata": {},
   "source": [
    "# 封裝"
   ]
  },
  {
   "cell_type": "code",
   "execution_count": 6,
   "id": "sharing-blast",
   "metadata": {},
   "outputs": [
    {
     "name": "stdout",
     "output_type": "stream",
     "text": [
      "isaac  使用底線的餘額:  0\n",
      "isaac  沒用底線的餘額:  10000\n"
     ]
    }
   ],
   "source": [
    "class Banks():\n",
    "    def __init__(self, uname):              # 初始化方法\n",
    "        self.__name = uname                 # 設定私有存款者名字\n",
    "        self.__balance1 = 0                  # 設定私有開戶金額是0\n",
    "        self.balance2 = 0\n",
    "\n",
    "    def get_balance1(self):                  # 獲得存款餘額\n",
    "        print(self.__name, \" 使用底線的餘額: \", self.__balance1)\n",
    "        \n",
    "    def get_balance2(self):                  # 獲得存款餘額\n",
    "        print(self.__name, \" 沒用底線的餘額: \", self.balance2)\n",
    "\n",
    "\n",
    "isaacbank = Banks('isaac')                    # 定義物件isaacbank\n",
    "isaacbank.__balance1 = 10000                  # 類別外直接竄改存款餘額\n",
    "isaacbank.get_balance1()\n",
    "isaacbank.balance2 = 10000                  # 類別外直接竄改存款餘額\n",
    "isaacbank.get_balance2()"
   ]
  },
  {
   "cell_type": "markdown",
   "id": "vanilla-destiny",
   "metadata": {},
   "source": [
    "# 繼承"
   ]
  },
  {
   "cell_type": "code",
   "execution_count": 7,
   "id": "organizational-thong",
   "metadata": {},
   "outputs": [
    {
     "name": "stdout",
     "output_type": "stream",
     "text": [
      "父類別 :  台北市羅斯福路\n",
      "子類別 :  台北市羅斯福路\n"
     ]
    }
   ],
   "source": [
    "class Father():\n",
    "    def __init__(self):\n",
    "        self.__address = '台北市羅斯福路';\n",
    "    def getaddr(self):\n",
    "        return self.__address\n",
    "\n",
    "class Son(Father):\n",
    "    pass\n",
    "\n",
    "dylan = Father()\n",
    "isaac = Son()\n",
    "print('父類別 : ',dylan.getaddr())\n",
    "print('子類別 : ',isaac.getaddr())"
   ]
  },
  {
   "cell_type": "code",
   "execution_count": null,
   "id": "fluid-particle",
   "metadata": {},
   "outputs": [],
   "source": [
    "class Grandfather():\n",
    "    \"\"\" 定義祖父類別 \"\"\"\n",
    "    def action1(self):\n",
    "        print(\"Grandfather\")\n",
    "        \n",
    "class Father(Grandfather):\n",
    "    \"\"\" 定義父親類別 \"\"\"\n",
    "    def action2(self):      # 定義action2()\n",
    "        print(\"Father\")\n",
    "\n",
    "class Uncle(Grandfather):\n",
    "    \"\"\" 定義叔父類別 \"\"\"\n",
    "    def action2(self):      # 定義action2()\n",
    "        print(\"Uncle\")\n",
    "\n",
    "class Isaac(Father, Uncle): #有繼承順序\n",
    "    \"\"\" 定義Isaac類別 \"\"\"\n",
    "    def action3(self):\n",
    "        print(\"Isaac\")\n",
    "\n",
    "isaac = Isaac()\n",
    "isaac.action3()              # 順序 Isaac\n",
    "isaac.action2()              # 順序 Isaac -> Father\n",
    "isaac.action1()              # 順序 Isaac -> Father -> Grandfather"
   ]
  },
  {
   "cell_type": "markdown",
   "id": "celtic-picnic",
   "metadata": {},
   "source": [
    "# 多型"
   ]
  },
  {
   "cell_type": "code",
   "execution_count": null,
   "id": "lyric-twenty",
   "metadata": {},
   "outputs": [],
   "source": [
    "class Person():\n",
    "    def __init__(self,name):\n",
    "        self.name = name\n",
    "class TeacherPerson(Person):\n",
    "    def __init__(self,name):\n",
    "        self.name = \"teacher \" + name\n",
    "\n",
    "my_name = Person(\"isaac\")\n",
    "t_my_name = TeacherPerson(\"isaac\")\n",
    "print(my_name.name)\n",
    "print(t_my_name.name)"
   ]
  }
 ],
 "metadata": {
  "kernelspec": {
   "display_name": "Python 3",
   "language": "python",
   "name": "python3"
  },
  "language_info": {
   "codemirror_mode": {
    "name": "ipython",
    "version": 3
   },
   "file_extension": ".py",
   "mimetype": "text/x-python",
   "name": "python",
   "nbconvert_exporter": "python",
   "pygments_lexer": "ipython3",
   "version": "3.8.7"
  }
 },
 "nbformat": 4,
 "nbformat_minor": 5
}
